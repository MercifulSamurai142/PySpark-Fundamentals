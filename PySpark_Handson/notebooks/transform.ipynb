{
 "cells": [
  {
   "cell_type": "code",
   "execution_count": 0,
   "metadata": {
    "application/vnd.databricks.v1+cell": {
     "cellMetadata": {
      "byteLimit": 2048000,
      "rowLimit": 10000
     },
     "inputWidgets": {},
     "nuid": "2c315f93-d8d1-47ad-aab3-94fdcfb62d7d",
     "showTitle": false,
     "tableResultSettingsMap": {},
     "title": ""
    }
   },
   "outputs": [],
   "source": [
    "from pyspark.sql.window import Window\n",
    "from pyspark.sql.functions import lead,col,broadcast\n",
    "\n",
    "class Transformer :\n",
    "    def __init__(self):\n",
    "        pass\n",
    "    def transform(self):\n",
    "        pass\n",
    "class FirstTransformer(Transformer):\n",
    "    def transform(self, inputDFs):\n",
    "        \"\"\"\n",
    "        Customers who have bought Airpods after buying the iPhone\n",
    "        \"\"\"\n",
    "        transactionInputDF = inputDFs.get('transactionInputDF')\n",
    "        # print(\"Transaction Data\")\n",
    "        # transactionInputDF.display()\n",
    "        \n",
    "        #LEAD(product_name) -> Partition By customer_id & order by transaction_id\n",
    "        windowSpec = Window.partitionBy('customer_id')\\\n",
    "                            .orderBy('transaction_date')\n",
    "        transformedDF = transactionInputDF.withColumn(\n",
    "            'next_product_name',lead('product_name').over(windowSpec)\n",
    "        )\n",
    "        print(\"Successive purchased product using lead function\")\n",
    "        transformedDF.orderBy('customer_id','transaction_date','product_name').display()\n",
    "\n",
    "        filteredDF = transformedDF.filter(\n",
    "            (col('product_name') == 'iPhone') & (col('next_product_name') == 'AirPods')\n",
    "        )\n",
    "\n",
    "        print(\"Customers buying Airpods after iphone\")\n",
    "        filteredDF.orderBy('customer_id','transaction_date','product_name').display()\n",
    "\n",
    "        customerInputDF = inputDFs.get('customerInputDF')\n",
    "        # customerInputDF.display()\n",
    "        joinDF = customerInputDF.join(\n",
    "            broadcast(filteredDF),\n",
    "            'customer_id'\n",
    "        )\n",
    "        print('JOINED DF to display customer info')\n",
    "        joinDF.display()\n",
    "        return joinDF.select(\n",
    "            'customer_id',\n",
    "            'customer_name',\n",
    "            'location'\n",
    "        )"
   ]
  }
 ],
 "metadata": {
  "application/vnd.databricks.v1+notebook": {
   "computePreferences": {
    "hardware": {
     "accelerator": null,
     "gpuPoolId": null,
     "memory": null
    }
   },
   "dashboards": [],
   "environmentMetadata": {
    "base_environment": "",
    "environment_version": "2"
   },
   "inputWidgetPreferences": null,
   "language": "python",
   "notebookMetadata": {
    "pythonIndentUnit": 4
   },
   "notebookName": "transform",
   "widgets": {}
  },
  "language_info": {
   "name": "python"
  }
 },
 "nbformat": 4,
 "nbformat_minor": 0
}