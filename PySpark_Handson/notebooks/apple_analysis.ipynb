{
 "cells": [
  {
   "cell_type": "code",
   "execution_count": 0,
   "metadata": {
    "application/vnd.databricks.v1+cell": {
     "cellMetadata": {
      "byteLimit": 2048000,
      "rowLimit": 10000
     },
     "inputWidgets": {},
     "nuid": "6878c104-ae9d-4017-842f-25b70312cb6e",
     "showTitle": false,
     "tableResultSettingsMap": {},
     "title": ""
    }
   },
   "outputs": [],
   "source": [
    "%run \"./transform\""
   ]
  },
  {
   "cell_type": "code",
   "execution_count": 0,
   "metadata": {
    "application/vnd.databricks.v1+cell": {
     "cellMetadata": {
      "byteLimit": 2048000,
      "rowLimit": 10000
     },
     "inputWidgets": {},
     "nuid": "d3f96608-6b22-48ae-b78a-3d3133e95897",
     "showTitle": false,
     "tableResultSettingsMap": {},
     "title": ""
    }
   },
   "outputs": [],
   "source": [
    "%run \"./extractor\""
   ]
  },
  {
   "cell_type": "code",
   "execution_count": 0,
   "metadata": {
    "application/vnd.databricks.v1+cell": {
     "cellMetadata": {
      "byteLimit": 2048000,
      "rowLimit": 10000
     },
     "inputWidgets": {},
     "nuid": "c0ca7677-849b-4d1c-8cbe-46e36f6050da",
     "showTitle": false,
     "tableResultSettingsMap": {},
     "title": ""
    }
   },
   "outputs": [],
   "source": [
    "%run \"./loader\""
   ]
  },
  {
   "cell_type": "code",
   "execution_count": 0,
   "metadata": {
    "application/vnd.databricks.v1+cell": {
     "cellMetadata": {
      "byteLimit": 2048000,
      "rowLimit": 10000
     },
     "inputWidgets": {},
     "nuid": "0c11d0bd-cdfa-4fc3-aa74-79e3b0664bcd",
     "showTitle": false,
     "tableResultSettingsMap": {},
     "title": ""
    }
   },
   "outputs": [],
   "source": [
    "class FirstWorkFlow :\n",
    "    \"\"\"\n",
    "    ETL pipeline to generate the data of all customers who bought airpods after buying the iPhone\n",
    "    \"\"\"\n",
    "    def __init__(self) :\n",
    "        pass\n",
    "\n",
    "    def runner (self) :\n",
    "        \n",
    "        #Step 1 : Extract all required data\n",
    "        inputDFs = AirpodsAfterIphoneExtractor().extract()\n",
    "\n",
    "        #Step 2 : Transform : Customers who have bought Airpods after buying the iPhone\n",
    "        firstTransformDF = FirstTransformer().transform(inputDFs)\n",
    "        # firstTransformDF.display()\n",
    "        #Step 3 : Load : Save the output to a table\n",
    "        AirpodsAfterIphoneLoader(firstTransformDF).sink()"
   ]
  },
  {
   "cell_type": "code",
   "execution_count": 0,
   "metadata": {
    "application/vnd.databricks.v1+cell": {
     "cellMetadata": {
      "byteLimit": 2048000,
      "rowLimit": 10000
     },
     "inputWidgets": {},
     "nuid": "5877a91f-a8f5-4b34-83aa-1a3d0bfcdbb9",
     "showTitle": false,
     "tableResultSettingsMap": {},
     "title": ""
    }
   },
   "outputs": [
    {
     "output_type": "stream",
     "name": "stdout",
     "output_type": "stream",
     "text": [
      "Transaction Table order by customer_id,transaction_id\n"
     ]
    },
    {
     "output_type": "display_data",
     "data": {
      "text/html": [
       "<style scoped>\n",
       "  .table-result-container {\n",
       "    max-height: 300px;\n",
       "    overflow: auto;\n",
       "  }\n",
       "  table, th, td {\n",
       "    border: 1px solid black;\n",
       "    border-collapse: collapse;\n",
       "  }\n",
       "  th, td {\n",
       "    padding: 5px;\n",
       "  }\n",
       "  th {\n",
       "    text-align: left;\n",
       "  }\n",
       "</style><div class='table-result-container'><table class='table-result'><thead style='background-color: white'><tr><th>transaction_id</th><th>customer_id</th><th>product_name</th><th>transaction_date</th></tr></thead><tbody><tr><td>11</td><td>105</td><td>iPhone</td><td>2022-02-01</td></tr><tr><td>14</td><td>105</td><td>AirPods</td><td>2022-02-04</td></tr><tr><td>18</td><td>105</td><td>MacBook</td><td>2022-02-08</td></tr><tr><td>12</td><td>106</td><td>iPhone</td><td>2022-02-02</td></tr><tr><td>16</td><td>106</td><td>MacBook</td><td>2022-02-06</td></tr><tr><td>20</td><td>106</td><td>AirPods</td><td>2022-02-10</td></tr><tr><td>13</td><td>107</td><td>AirPods</td><td>2022-02-03</td></tr><tr><td>17</td><td>107</td><td>iPhone</td><td>2022-02-07</td></tr><tr><td>15</td><td>108</td><td>iPhone</td><td>2022-02-05</td></tr><tr><td>19</td><td>108</td><td>AirPods</td><td>2022-02-09</td></tr></tbody></table></div>"
      ]
     },
     "metadata": {
      "application/vnd.databricks.v1+output": {
       "addedWidgets": {},
       "aggData": [],
       "aggError": "",
       "aggOverflow": false,
       "aggSchema": [],
       "aggSeriesLimitReached": false,
       "aggType": "",
       "arguments": {},
       "columnCustomDisplayInfos": {},
       "data": [
        [
         "11",
         "105",
         "iPhone",
         "2022-02-01"
        ],
        [
         "14",
         "105",
         "AirPods",
         "2022-02-04"
        ],
        [
         "18",
         "105",
         "MacBook",
         "2022-02-08"
        ],
        [
         "12",
         "106",
         "iPhone",
         "2022-02-02"
        ],
        [
         "16",
         "106",
         "MacBook",
         "2022-02-06"
        ],
        [
         "20",
         "106",
         "AirPods",
         "2022-02-10"
        ],
        [
         "13",
         "107",
         "AirPods",
         "2022-02-03"
        ],
        [
         "17",
         "107",
         "iPhone",
         "2022-02-07"
        ],
        [
         "15",
         "108",
         "iPhone",
         "2022-02-05"
        ],
        [
         "19",
         "108",
         "AirPods",
         "2022-02-09"
        ]
       ],
       "datasetInfos": [],
       "dbfsResultPath": null,
       "isJsonSchema": true,
       "metadata": {},
       "overflow": false,
       "plotOptions": {
        "customPlotOptions": {},
        "displayType": "table",
        "pivotAggregation": null,
        "pivotColumns": null,
        "xColumns": null,
        "yColumns": null
       },
       "removedWidgets": [],
       "schema": [
        {
         "metadata": "{}",
         "name": "transaction_id",
         "type": "\"string\""
        },
        {
         "metadata": "{}",
         "name": "customer_id",
         "type": "\"string\""
        },
        {
         "metadata": "{}",
         "name": "product_name",
         "type": "\"string\""
        },
        {
         "metadata": "{}",
         "name": "transaction_date",
         "type": "\"string\""
        }
       ],
       "type": "table"
      }
     },
     "output_type": "display_data"
    },
    {
     "output_type": "stream",
     "name": "stdout",
     "output_type": "stream",
     "text": [
      "Customer Table\n"
     ]
    },
    {
     "output_type": "display_data",
     "data": {
      "text/html": [
       "<style scoped>\n",
       "  .table-result-container {\n",
       "    max-height: 300px;\n",
       "    overflow: auto;\n",
       "  }\n",
       "  table, th, td {\n",
       "    border: 1px solid black;\n",
       "    border-collapse: collapse;\n",
       "  }\n",
       "  th, td {\n",
       "    padding: 5px;\n",
       "  }\n",
       "  th {\n",
       "    text-align: left;\n",
       "  }\n",
       "</style><div class='table-result-container'><table class='table-result'><thead style='background-color: white'><tr><th>customer_id</th><th>customer_name</th><th>join_date</th><th>location</th></tr></thead><tbody><tr><td>105</td><td>Eva</td><td>2022-01-01</td><td>Ohio</td></tr><tr><td>106</td><td>Frank</td><td>2022-02-01</td><td>Nevada</td></tr><tr><td>107</td><td>Grace</td><td>2022-03-01</td><td>Colorado</td></tr><tr><td>108</td><td>Henry</td><td>2022-04-01</td><td>Utah</td></tr></tbody></table></div>"
      ]
     },
     "metadata": {
      "application/vnd.databricks.v1+output": {
       "addedWidgets": {},
       "aggData": [],
       "aggError": "",
       "aggOverflow": false,
       "aggSchema": [],
       "aggSeriesLimitReached": false,
       "aggType": "",
       "arguments": {},
       "columnCustomDisplayInfos": {},
       "data": [
        [
         105,
         "Eva",
         "2022-01-01",
         "Ohio"
        ],
        [
         106,
         "Frank",
         "2022-02-01",
         "Nevada"
        ],
        [
         107,
         "Grace",
         "2022-03-01",
         "Colorado"
        ],
        [
         108,
         "Henry",
         "2022-04-01",
         "Utah"
        ]
       ],
       "datasetInfos": [],
       "dbfsResultPath": null,
       "isJsonSchema": true,
       "metadata": {},
       "overflow": false,
       "plotOptions": {
        "customPlotOptions": {},
        "displayType": "table",
        "pivotAggregation": null,
        "pivotColumns": null,
        "xColumns": null,
        "yColumns": null
       },
       "removedWidgets": [],
       "schema": [
        {
         "metadata": "{}",
         "name": "customer_id",
         "type": "\"integer\""
        },
        {
         "metadata": "{}",
         "name": "customer_name",
         "type": "\"string\""
        },
        {
         "metadata": "{\"__detected_date_formats\": \"yyyy-M-d\"}",
         "name": "join_date",
         "type": "\"date\""
        },
        {
         "metadata": "{}",
         "name": "location",
         "type": "\"string\""
        }
       ],
       "type": "table"
      }
     },
     "output_type": "display_data"
    },
    {
     "output_type": "stream",
     "name": "stdout",
     "output_type": "stream",
     "text": [
      "Successive purchased product using lead function\n"
     ]
    },
    {
     "output_type": "display_data",
     "data": {
      "text/html": [
       "<style scoped>\n",
       "  .table-result-container {\n",
       "    max-height: 300px;\n",
       "    overflow: auto;\n",
       "  }\n",
       "  table, th, td {\n",
       "    border: 1px solid black;\n",
       "    border-collapse: collapse;\n",
       "  }\n",
       "  th, td {\n",
       "    padding: 5px;\n",
       "  }\n",
       "  th {\n",
       "    text-align: left;\n",
       "  }\n",
       "</style><div class='table-result-container'><table class='table-result'><thead style='background-color: white'><tr><th>transaction_id</th><th>customer_id</th><th>product_name</th><th>transaction_date</th><th>next_product_name</th></tr></thead><tbody><tr><td>11</td><td>105</td><td>iPhone</td><td>2022-02-01</td><td>AirPods</td></tr><tr><td>14</td><td>105</td><td>AirPods</td><td>2022-02-04</td><td>MacBook</td></tr><tr><td>18</td><td>105</td><td>MacBook</td><td>2022-02-08</td><td>null</td></tr><tr><td>12</td><td>106</td><td>iPhone</td><td>2022-02-02</td><td>MacBook</td></tr><tr><td>16</td><td>106</td><td>MacBook</td><td>2022-02-06</td><td>AirPods</td></tr><tr><td>20</td><td>106</td><td>AirPods</td><td>2022-02-10</td><td>null</td></tr><tr><td>13</td><td>107</td><td>AirPods</td><td>2022-02-03</td><td>iPhone</td></tr><tr><td>17</td><td>107</td><td>iPhone</td><td>2022-02-07</td><td>null</td></tr><tr><td>15</td><td>108</td><td>iPhone</td><td>2022-02-05</td><td>AirPods</td></tr><tr><td>19</td><td>108</td><td>AirPods</td><td>2022-02-09</td><td>null</td></tr></tbody></table></div>"
      ]
     },
     "metadata": {
      "application/vnd.databricks.v1+output": {
       "addedWidgets": {},
       "aggData": [],
       "aggError": "",
       "aggOverflow": false,
       "aggSchema": [],
       "aggSeriesLimitReached": false,
       "aggType": "",
       "arguments": {},
       "columnCustomDisplayInfos": {},
       "data": [
        [
         "11",
         "105",
         "iPhone",
         "2022-02-01",
         "AirPods"
        ],
        [
         "14",
         "105",
         "AirPods",
         "2022-02-04",
         "MacBook"
        ],
        [
         "18",
         "105",
         "MacBook",
         "2022-02-08",
         null
        ],
        [
         "12",
         "106",
         "iPhone",
         "2022-02-02",
         "MacBook"
        ],
        [
         "16",
         "106",
         "MacBook",
         "2022-02-06",
         "AirPods"
        ],
        [
         "20",
         "106",
         "AirPods",
         "2022-02-10",
         null
        ],
        [
         "13",
         "107",
         "AirPods",
         "2022-02-03",
         "iPhone"
        ],
        [
         "17",
         "107",
         "iPhone",
         "2022-02-07",
         null
        ],
        [
         "15",
         "108",
         "iPhone",
         "2022-02-05",
         "AirPods"
        ],
        [
         "19",
         "108",
         "AirPods",
         "2022-02-09",
         null
        ]
       ],
       "datasetInfos": [],
       "dbfsResultPath": null,
       "isJsonSchema": true,
       "metadata": {},
       "overflow": false,
       "plotOptions": {
        "customPlotOptions": {},
        "displayType": "table",
        "pivotAggregation": null,
        "pivotColumns": null,
        "xColumns": null,
        "yColumns": null
       },
       "removedWidgets": [],
       "schema": [
        {
         "metadata": "{}",
         "name": "transaction_id",
         "type": "\"string\""
        },
        {
         "metadata": "{}",
         "name": "customer_id",
         "type": "\"string\""
        },
        {
         "metadata": "{}",
         "name": "product_name",
         "type": "\"string\""
        },
        {
         "metadata": "{}",
         "name": "transaction_date",
         "type": "\"string\""
        },
        {
         "metadata": "{}",
         "name": "next_product_name",
         "type": "\"string\""
        }
       ],
       "type": "table"
      }
     },
     "output_type": "display_data"
    },
    {
     "output_type": "stream",
     "name": "stdout",
     "output_type": "stream",
     "text": [
      "Customers buying Airpods after iphone\n"
     ]
    },
    {
     "output_type": "display_data",
     "data": {
      "text/html": [
       "<style scoped>\n",
       "  .table-result-container {\n",
       "    max-height: 300px;\n",
       "    overflow: auto;\n",
       "  }\n",
       "  table, th, td {\n",
       "    border: 1px solid black;\n",
       "    border-collapse: collapse;\n",
       "  }\n",
       "  th, td {\n",
       "    padding: 5px;\n",
       "  }\n",
       "  th {\n",
       "    text-align: left;\n",
       "  }\n",
       "</style><div class='table-result-container'><table class='table-result'><thead style='background-color: white'><tr><th>transaction_id</th><th>customer_id</th><th>product_name</th><th>transaction_date</th><th>next_product_name</th></tr></thead><tbody><tr><td>11</td><td>105</td><td>iPhone</td><td>2022-02-01</td><td>AirPods</td></tr><tr><td>15</td><td>108</td><td>iPhone</td><td>2022-02-05</td><td>AirPods</td></tr></tbody></table></div>"
      ]
     },
     "metadata": {
      "application/vnd.databricks.v1+output": {
       "addedWidgets": {},
       "aggData": [],
       "aggError": "",
       "aggOverflow": false,
       "aggSchema": [],
       "aggSeriesLimitReached": false,
       "aggType": "",
       "arguments": {},
       "columnCustomDisplayInfos": {},
       "data": [
        [
         "11",
         "105",
         "iPhone",
         "2022-02-01",
         "AirPods"
        ],
        [
         "15",
         "108",
         "iPhone",
         "2022-02-05",
         "AirPods"
        ]
       ],
       "datasetInfos": [],
       "dbfsResultPath": null,
       "isJsonSchema": true,
       "metadata": {},
       "overflow": false,
       "plotOptions": {
        "customPlotOptions": {},
        "displayType": "table",
        "pivotAggregation": null,
        "pivotColumns": null,
        "xColumns": null,
        "yColumns": null
       },
       "removedWidgets": [],
       "schema": [
        {
         "metadata": "{}",
         "name": "transaction_id",
         "type": "\"string\""
        },
        {
         "metadata": "{}",
         "name": "customer_id",
         "type": "\"string\""
        },
        {
         "metadata": "{}",
         "name": "product_name",
         "type": "\"string\""
        },
        {
         "metadata": "{}",
         "name": "transaction_date",
         "type": "\"string\""
        },
        {
         "metadata": "{}",
         "name": "next_product_name",
         "type": "\"string\""
        }
       ],
       "type": "table"
      }
     },
     "output_type": "display_data"
    },
    {
     "output_type": "stream",
     "name": "stdout",
     "output_type": "stream",
     "text": [
      "JOINED DF to display customer info\n"
     ]
    },
    {
     "output_type": "display_data",
     "data": {
      "text/html": [
       "<style scoped>\n",
       "  .table-result-container {\n",
       "    max-height: 300px;\n",
       "    overflow: auto;\n",
       "  }\n",
       "  table, th, td {\n",
       "    border: 1px solid black;\n",
       "    border-collapse: collapse;\n",
       "  }\n",
       "  th, td {\n",
       "    padding: 5px;\n",
       "  }\n",
       "  th {\n",
       "    text-align: left;\n",
       "  }\n",
       "</style><div class='table-result-container'><table class='table-result'><thead style='background-color: white'><tr><th>customer_id</th><th>customer_name</th><th>join_date</th><th>location</th><th>transaction_id</th><th>product_name</th><th>transaction_date</th><th>next_product_name</th></tr></thead><tbody><tr><td>105</td><td>Eva</td><td>2022-01-01</td><td>Ohio</td><td>11</td><td>iPhone</td><td>2022-02-01</td><td>AirPods</td></tr><tr><td>108</td><td>Henry</td><td>2022-04-01</td><td>Utah</td><td>15</td><td>iPhone</td><td>2022-02-05</td><td>AirPods</td></tr></tbody></table></div>"
      ]
     },
     "metadata": {
      "application/vnd.databricks.v1+output": {
       "addedWidgets": {},
       "aggData": [],
       "aggError": "",
       "aggOverflow": false,
       "aggSchema": [],
       "aggSeriesLimitReached": false,
       "aggType": "",
       "arguments": {},
       "columnCustomDisplayInfos": {},
       "data": [
        [
         105,
         "Eva",
         "2022-01-01",
         "Ohio",
         "11",
         "iPhone",
         "2022-02-01",
         "AirPods"
        ],
        [
         108,
         "Henry",
         "2022-04-01",
         "Utah",
         "15",
         "iPhone",
         "2022-02-05",
         "AirPods"
        ]
       ],
       "datasetInfos": [],
       "dbfsResultPath": null,
       "isJsonSchema": true,
       "metadata": {},
       "overflow": false,
       "plotOptions": {
        "customPlotOptions": {},
        "displayType": "table",
        "pivotAggregation": null,
        "pivotColumns": null,
        "xColumns": null,
        "yColumns": null
       },
       "removedWidgets": [],
       "schema": [
        {
         "metadata": "{}",
         "name": "customer_id",
         "type": "\"integer\""
        },
        {
         "metadata": "{}",
         "name": "customer_name",
         "type": "\"string\""
        },
        {
         "metadata": "{\"__detected_date_formats\": \"yyyy-M-d\"}",
         "name": "join_date",
         "type": "\"date\""
        },
        {
         "metadata": "{}",
         "name": "location",
         "type": "\"string\""
        },
        {
         "metadata": "{}",
         "name": "transaction_id",
         "type": "\"string\""
        },
        {
         "metadata": "{}",
         "name": "product_name",
         "type": "\"string\""
        },
        {
         "metadata": "{}",
         "name": "transaction_date",
         "type": "\"string\""
        },
        {
         "metadata": "{}",
         "name": "next_product_name",
         "type": "\"string\""
        }
       ],
       "type": "table"
      }
     },
     "output_type": "display_data"
    }
   ],
   "source": [
    "class WorkFlowRunner :\n",
    "    def __init__(self,name):\n",
    "        self.name = name\n",
    "\n",
    "    def work_runner(self):\n",
    "        if self.name == 'FirstWorkFlow':\n",
    "            return FirstWorkFlow().runner()\n",
    "\n",
    "name = \"FirstWorkFlow\"\n",
    "workflowRunner = WorkFlowRunner(name).work_runner()"
   ]
  }
 ],
 "metadata": {
  "application/vnd.databricks.v1+notebook": {
   "computePreferences": {
    "hardware": {
     "accelerator": null,
     "gpuPoolId": null,
     "memory": null
    }
   },
   "dashboards": [],
   "environmentMetadata": {
    "base_environment": "",
    "environment_version": "2"
   },
   "inputWidgetPreferences": null,
   "language": "python",
   "notebookMetadata": {
    "pythonIndentUnit": 4
   },
   "notebookName": "apple_analysis",
   "widgets": {}
  },
  "language_info": {
   "name": "python"
  }
 },
 "nbformat": 4,
 "nbformat_minor": 0
}