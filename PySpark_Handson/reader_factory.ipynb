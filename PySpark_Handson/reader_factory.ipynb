{
 "cells": [
  {
   "cell_type": "code",
   "execution_count": 0,
   "metadata": {
    "application/vnd.databricks.v1+cell": {
     "cellMetadata": {
      "byteLimit": 2048000,
      "rowLimit": 10000
     },
     "inputWidgets": {},
     "nuid": "bf70386b-3f31-4531-a042-4e9767cfe045",
     "showTitle": false,
     "tableResultSettingsMap": {},
     "title": ""
    }
   },
   "outputs": [],
   "source": [
    "class DataSource :\n",
    "    \"\"\"\n",
    "    Abstract Class\n",
    "    \"\"\"\n",
    "    def __init__(self,path) :\n",
    "        self.path = path\n",
    "\n",
    "    def get_data_frame(self) :\n",
    "        \"\"\"\n",
    "        Abstract Method, Function will be implemented in the child class\n",
    "        \"\"\"\n",
    "        raise ValueError(\"Abstract method not implemented\")\n",
    "\n",
    "class CSVDataSource(DataSource) :\n",
    "    def get_data_frame(self) :\n",
    "        return (\n",
    "            spark.read.format('csv')\\\n",
    "                .option('header',True)\\\n",
    "                .load(self.path)\n",
    "        )\n",
    "\n",
    "class ParaquetDataSource(DataSource) :\n",
    "    def get_data_frame(self) :\n",
    "        return (\n",
    "            spark.read.format('parquet')\\\n",
    "                .load(self.path)\n",
    "        )\n",
    "\n",
    "class DeltaDataSource(DataSource) :\n",
    "    def get_data_frame(self) :\n",
    "        return (\n",
    "            spark.read.format('delta')\\\n",
    "                .load(self.path)\n",
    "        )\n",
    "\n",
    "class TableDataSource(DataSource) :\n",
    "    def get_data_frame(self) :\n",
    "        return (\n",
    "            spark.read.table(self.path)\n",
    "        )\n",
    "\n",
    "def get_data_source(data_type, file_path) :\n",
    "    if data_type == 'csv' :\n",
    "        return CSVDataSource(file_path)\n",
    "    elif data_type == 'parquet' :\n",
    "        return ParaquetDataSource(file_path)\n",
    "    elif data_type == 'delta' :\n",
    "        return DeltaDataSource(file_path)\n",
    "    elif data_type == 'table' :\n",
    "        return TableDataSource(file_path)\n",
    "    else :\n",
    "        raise ValueError(f\"Not implemented data type: {data_type}\")"
   ]
  }
 ],
 "metadata": {
  "application/vnd.databricks.v1+notebook": {
   "computePreferences": null,
   "dashboards": [],
   "environmentMetadata": {
    "base_environment": "",
    "environment_version": "2"
   },
   "inputWidgetPreferences": null,
   "language": "python",
   "notebookMetadata": {
    "pythonIndentUnit": 4
   },
   "notebookName": "reader_factory",
   "widgets": {}
  },
  "language_info": {
   "name": "python"
  }
 },
 "nbformat": 4,
 "nbformat_minor": 0
}