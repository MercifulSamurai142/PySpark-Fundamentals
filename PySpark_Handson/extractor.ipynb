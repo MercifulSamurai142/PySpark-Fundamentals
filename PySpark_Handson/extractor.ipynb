{
 "cells": [
  {
   "cell_type": "code",
   "execution_count": 0,
   "metadata": {
    "application/vnd.databricks.v1+cell": {
     "cellMetadata": {
      "byteLimit": 2048000,
      "rowLimit": 10000
     },
     "inputWidgets": {},
     "nuid": "7e808b5c-defd-47e6-9815-09445566da6e",
     "showTitle": false,
     "tableResultSettingsMap": {},
     "title": ""
    }
   },
   "outputs": [],
   "source": [
    "%run \"./reader_factory\""
   ]
  },
  {
   "cell_type": "code",
   "execution_count": 0,
   "metadata": {
    "application/vnd.databricks.v1+cell": {
     "cellMetadata": {},
     "inputWidgets": {},
     "nuid": "d8cd3f35-8506-428e-8a02-13e53a1af214",
     "showTitle": false,
     "tableResultSettingsMap": {},
     "title": ""
    }
   },
   "outputs": [],
   "source": [
    "class Extractor :\n",
    "    \"\"\"\n",
    "    Abstract Class\n",
    "    \"\"\"\n",
    "    def __init__(self):\n",
    "        pass\n",
    "    def extract(self):\n",
    "        pass\n",
    "\n",
    "class AirpodsAfterIphoneExtractor(Extractor):\n",
    "    \"\"\"\n",
    "    Concrete Class\n",
    "    Implement the steps for extracting or reading the data\n",
    "    \"\"\"\n",
    "    \n",
    "    def extract(self):\n",
    "        customer_path = 'dbfs:/Volumes/workspace/customer_schema/customer_volume/Customer_Updated.csv'\n",
    "        products_path = 'dbfs:/Volumes/workspace/products_schema/products_volume/Products_Updated.csv'\n",
    "        transaction_path='dbfs:/Volumes/workspace/transaction_schema/transaction_volume/Transaction_Updated.csv'\n",
    "        \n",
    "        transactionInputDF = get_data_source(data_type='csv', file_path=transaction_path)\\\n",
    "                                .get_data_frame()\n",
    "        \n",
    "        customerInputDF = get_data_source(data_type='table',file_path='workspace.default.customer_delta_table_persist')\\\n",
    "                                .get_data_frame()\n",
    "        \n",
    "        print('Transaction Table order by customer_id,transaction_id')\n",
    "        transactionInputDF\\\n",
    "            .orderBy('customer_id','transaction_id')\\\n",
    "            .display()\n",
    "\n",
    "        print('Customer Table')\n",
    "        customerInputDF\\\n",
    "            .display()\n",
    "        \n",
    "        inputDFs = {\n",
    "            \"transactionInputDF\":transactionInputDF,\n",
    "            \"customerInputDF\":customerInputDF\n",
    "        }\n",
    "\n",
    "        return inputDFs"
   ]
  }
 ],
 "metadata": {
  "application/vnd.databricks.v1+notebook": {
   "computePreferences": {
    "hardware": {
     "accelerator": null,
     "gpuPoolId": null,
     "memory": null
    }
   },
   "dashboards": [],
   "environmentMetadata": {
    "base_environment": "",
    "environment_version": "2"
   },
   "inputWidgetPreferences": null,
   "language": "python",
   "notebookMetadata": {
    "pythonIndentUnit": 4
   },
   "notebookName": "extractor",
   "widgets": {}
  },
  "language_info": {
   "name": "python"
  }
 },
 "nbformat": 4,
 "nbformat_minor": 0
}