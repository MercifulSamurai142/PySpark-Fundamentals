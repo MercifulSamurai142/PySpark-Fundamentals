{
 "cells": [
  {
   "cell_type": "code",
   "execution_count": 0,
   "metadata": {
    "application/vnd.databricks.v1+cell": {
     "cellMetadata": {},
     "inputWidgets": {},
     "nuid": "28ee11c8-ed50-4282-81a2-41fbbe638e6b",
     "showTitle": false,
     "tableResultSettingsMap": {},
     "title": ""
    }
   },
   "outputs": [],
   "source": [
    "class DataSink :\n",
    "    \"\"\"\n",
    "    Abstract Class\n",
    "    \"\"\"\n",
    "    def __init__(self, df, path, method, params = None) :\n",
    "        self.df = df\n",
    "        self.path = path\n",
    "        self.method = method\n",
    "        self.params = params\n",
    "\n",
    "    def load_data_frame(self) :\n",
    "        \"\"\"\n",
    "        Abstract Method, Function will be implemented in the child class\n",
    "        \"\"\"\n",
    "        raise ValueError(\"Abstract method not implemented\")\n",
    "\n",
    "class LoadToDBFS(DataSink):\n",
    "\n",
    "    def load_data_frame(self):\n",
    "\n",
    "        self.df.write.mode(self.method).save(self.path)\n",
    "\n",
    "class LoadToDBFSWithPartition(DataSink):\n",
    "\n",
    "    def load_data_frame(self):\n",
    "        partitionByColumns = self.params.get(\"partitionByColumns\")\n",
    "        self.df.write.mode(self.method).partitionBy(*partitionByColumns).save(self.path)\n",
    "\n",
    "def get_sink_source(sink_type, df, path, method, params=None):\n",
    "    if(sink_type == 'dbfs'):\n",
    "        return LoadToDBFS(df, path, method, params)\n",
    "    elif(sink_type == 'dbfs_with_partition'):\n",
    "        return LoadToDBFSWithPartition(df, path, method, params)\n",
    "    else:\n",
    "        raise ValueError(f\"Not implemented for sink type: {sink_type}\")"
   ]
  }
 ],
 "metadata": {
  "application/vnd.databricks.v1+notebook": {
   "computePreferences": null,
   "dashboards": [],
   "environmentMetadata": {
    "base_environment": "",
    "environment_version": "2"
   },
   "inputWidgetPreferences": null,
   "language": "python",
   "notebookMetadata": {
    "pythonIndentUnit": 4
   },
   "notebookName": "loader_factory",
   "widgets": {}
  },
  "language_info": {
   "name": "python"
  }
 },
 "nbformat": 4,
 "nbformat_minor": 0
}