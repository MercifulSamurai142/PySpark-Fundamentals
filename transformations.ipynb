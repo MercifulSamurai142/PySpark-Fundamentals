{
 "cells": [
  {
   "cell_type": "code",
   "execution_count": 0,
   "metadata": {
    "application/vnd.databricks.v1+cell": {
     "cellMetadata": {
      "byteLimit": 2048000,
      "rowLimit": 10000
     },
     "inputWidgets": {},
     "nuid": "6816af75-1b19-4a9c-a735-9178c44e9024",
     "showTitle": false,
     "tableResultSettingsMap": {},
     "title": ""
    }
   },
   "outputs": [],
   "source": [
    "from pyspark.sql.functions import *\n",
    "from pyspark.sql.types import *"
   ]
  },
  {
   "cell_type": "code",
   "execution_count": 0,
   "metadata": {
    "application/vnd.databricks.v1+cell": {
     "cellMetadata": {
      "byteLimit": 2048000,
      "rowLimit": 10000
     },
     "inputWidgets": {},
     "nuid": "a664afcb-1b40-476f-8dcd-3105c9480953",
     "showTitle": false,
     "tableResultSettingsMap": {},
     "title": ""
    }
   },
   "outputs": [],
   "source": [
    "data_path = '/Volumes/workspace/mart_schema/mart_volume/big_mart_sales.csv'"
   ]
  },
  {
   "cell_type": "code",
   "execution_count": 0,
   "metadata": {
    "application/vnd.databricks.v1+cell": {
     "cellMetadata": {
      "byteLimit": 2048000,
      "rowLimit": 10000
     },
     "inputWidgets": {},
     "nuid": "0bd865ce-0c78-4618-b405-7e62ffc84079",
     "showTitle": false,
     "tableResultSettingsMap": {},
     "title": ""
    }
   },
   "outputs": [
    {
     "output_type": "display_data",
     "data": {
      "text/html": [
       "<style scoped>\n",
       "  .table-result-container {\n",
       "    max-height: 300px;\n",
       "    overflow: auto;\n",
       "  }\n",
       "  table, th, td {\n",
       "    border: 1px solid black;\n",
       "    border-collapse: collapse;\n",
       "  }\n",
       "  th, td {\n",
       "    padding: 5px;\n",
       "  }\n",
       "  th {\n",
       "    text-align: left;\n",
       "  }\n",
       "</style><div class='table-result-container'><table class='table-result'><thead style='background-color: white'><tr><th>Item_Identifier</th><th>Item_Weight</th><th>Item_Fat_Content</th><th>Item_Visibility</th><th>Item_Type</th><th>Item_MRP</th><th>Outlet_Identifier</th><th>Outlet_Establishment_Year</th><th>Outlet_Size</th><th>Outlet_Location_Type</th><th>Outlet_Type</th><th>Item_Outlet_Sales</th></tr></thead><tbody><tr><td>FDA15</td><td>9.3</td><td>Low Fat</td><td>0.016047301</td><td>Dairy</td><td>249.8092</td><td>OUT049</td><td>1999</td><td>Medium</td><td>Tier 1</td><td>Supermarket Type1</td><td>3735.138</td></tr><tr><td>DRC01</td><td>5.92</td><td>Regular</td><td>0.019278216</td><td>Soft Drinks</td><td>48.2692</td><td>OUT018</td><td>2009</td><td>Medium</td><td>Tier 3</td><td>Supermarket Type2</td><td>443.4228</td></tr><tr><td>FDN15</td><td>17.5</td><td>Low Fat</td><td>0.016760075</td><td>Meat</td><td>141.618</td><td>OUT049</td><td>1999</td><td>Medium</td><td>Tier 1</td><td>Supermarket Type1</td><td>2097.27</td></tr><tr><td>FDX07</td><td>19.2</td><td>Regular</td><td>0.0</td><td>Fruits and Vegetables</td><td>182.095</td><td>OUT010</td><td>1998</td><td>null</td><td>Tier 3</td><td>Grocery Store</td><td>732.38</td></tr><tr><td>NCD19</td><td>8.93</td><td>Low Fat</td><td>0.0</td><td>Household</td><td>53.8614</td><td>OUT013</td><td>1987</td><td>High</td><td>Tier 3</td><td>Supermarket Type1</td><td>994.7052</td></tr></tbody></table></div>"
      ]
     },
     "metadata": {
      "application/vnd.databricks.v1+output": {
       "addedWidgets": {},
       "aggData": [],
       "aggError": "",
       "aggOverflow": false,
       "aggSchema": [],
       "aggSeriesLimitReached": false,
       "aggType": "",
       "arguments": {},
       "columnCustomDisplayInfos": {},
       "data": [
        [
         "FDA15",
         9.3,
         "Low Fat",
         0.016047301,
         "Dairy",
         249.8092,
         "OUT049",
         1999,
         "Medium",
         "Tier 1",
         "Supermarket Type1",
         3735.138
        ],
        [
         "DRC01",
         5.92,
         "Regular",
         0.019278216,
         "Soft Drinks",
         48.2692,
         "OUT018",
         2009,
         "Medium",
         "Tier 3",
         "Supermarket Type2",
         443.4228
        ],
        [
         "FDN15",
         17.5,
         "Low Fat",
         0.016760075,
         "Meat",
         141.618,
         "OUT049",
         1999,
         "Medium",
         "Tier 1",
         "Supermarket Type1",
         2097.27
        ],
        [
         "FDX07",
         19.2,
         "Regular",
         0.0,
         "Fruits and Vegetables",
         182.095,
         "OUT010",
         1998,
         null,
         "Tier 3",
         "Grocery Store",
         732.38
        ],
        [
         "NCD19",
         8.93,
         "Low Fat",
         0.0,
         "Household",
         53.8614,
         "OUT013",
         1987,
         "High",
         "Tier 3",
         "Supermarket Type1",
         994.7052
        ]
       ],
       "datasetInfos": [],
       "dbfsResultPath": null,
       "isJsonSchema": true,
       "metadata": {},
       "overflow": false,
       "plotOptions": {
        "customPlotOptions": {},
        "displayType": "table",
        "pivotAggregation": null,
        "pivotColumns": null,
        "xColumns": null,
        "yColumns": null
       },
       "removedWidgets": [],
       "schema": [
        {
         "metadata": "{}",
         "name": "Item_Identifier",
         "type": "\"string\""
        },
        {
         "metadata": "{}",
         "name": "Item_Weight",
         "type": "\"double\""
        },
        {
         "metadata": "{}",
         "name": "Item_Fat_Content",
         "type": "\"string\""
        },
        {
         "metadata": "{}",
         "name": "Item_Visibility",
         "type": "\"double\""
        },
        {
         "metadata": "{}",
         "name": "Item_Type",
         "type": "\"string\""
        },
        {
         "metadata": "{}",
         "name": "Item_MRP",
         "type": "\"double\""
        },
        {
         "metadata": "{}",
         "name": "Outlet_Identifier",
         "type": "\"string\""
        },
        {
         "metadata": "{}",
         "name": "Outlet_Establishment_Year",
         "type": "\"integer\""
        },
        {
         "metadata": "{}",
         "name": "Outlet_Size",
         "type": "\"string\""
        },
        {
         "metadata": "{}",
         "name": "Outlet_Location_Type",
         "type": "\"string\""
        },
        {
         "metadata": "{}",
         "name": "Outlet_Type",
         "type": "\"string\""
        },
        {
         "metadata": "{}",
         "name": "Item_Outlet_Sales",
         "type": "\"double\""
        }
       ],
       "type": "table"
      }
     },
     "output_type": "display_data"
    }
   ],
   "source": [
    "df = spark.read.format('csv')\\\n",
    "        .option('header',True)\\\n",
    "        .option('inferschema',True)\\\n",
    "        .load(data_path)\n",
    "df.limit(5).display()"
   ]
  },
  {
   "cell_type": "code",
   "execution_count": 0,
   "metadata": {
    "application/vnd.databricks.v1+cell": {
     "cellMetadata": {
      "byteLimit": 2048000,
      "rowLimit": 10000
     },
     "inputWidgets": {},
     "nuid": "e5f19ef8-ebcd-47dc-ae26-e02f4e184dd7",
     "showTitle": false,
     "tableResultSettingsMap": {},
     "title": ""
    }
   },
   "outputs": [
    {
     "output_type": "stream",
     "name": "stdout",
     "output_type": "stream",
     "text": [
      "root\n |-- Item_Identifier: string (nullable = true)\n |-- Item_Weight: double (nullable = true)\n |-- Item_Fat_Content: string (nullable = true)\n |-- Item_Visibility: double (nullable = true)\n |-- Item_Type: string (nullable = true)\n |-- Item_MRP: double (nullable = true)\n |-- Outlet_Identifier: string (nullable = true)\n |-- Outlet_Establishment_Year: integer (nullable = true)\n |-- Outlet_Size: string (nullable = true)\n |-- Outlet_Location_Type: string (nullable = true)\n |-- Outlet_Type: string (nullable = true)\n |-- Item_Outlet_Sales: double (nullable = true)\n\n"
     ]
    }
   ],
   "source": [
    "df.printSchema()"
   ]
  },
  {
   "cell_type": "code",
   "execution_count": 0,
   "metadata": {
    "application/vnd.databricks.v1+cell": {
     "cellMetadata": {
      "byteLimit": 2048000,
      "rowLimit": 10000
     },
     "inputWidgets": {},
     "nuid": "b0828d59-f1dd-4a84-82e6-a0e0e4997cff",
     "showTitle": false,
     "tableResultSettingsMap": {},
     "title": ""
    }
   },
   "outputs": [
    {
     "output_type": "display_data",
     "data": {
      "text/html": [
       "<style scoped>\n",
       "  .table-result-container {\n",
       "    max-height: 300px;\n",
       "    overflow: auto;\n",
       "  }\n",
       "  table, th, td {\n",
       "    border: 1px solid black;\n",
       "    border-collapse: collapse;\n",
       "  }\n",
       "  th, td {\n",
       "    padding: 5px;\n",
       "  }\n",
       "  th {\n",
       "    text-align: left;\n",
       "  }\n",
       "</style><div class='table-result-container'><table class='table-result'><thead style='background-color: white'><tr><th>Item_Identifier</th><th>Item_Weight</th><th>Item_Fat_Content</th><th>Item_Visibility</th><th>Item_Type</th><th>Item_MRP</th><th>Outlet_Identifier</th><th>Outlet_Establishment_Year</th><th>Outlet_Size</th><th>Outlet_Location_Type</th><th>Outlet_Type</th><th>Item_Outlet_Sales</th></tr></thead><tbody><tr><td>FDA15</td><td>9.3</td><td>Low Fat</td><td>0.016047301</td><td>Dairy</td><td>249.8092</td><td>OUT049</td><td>1999</td><td>Medium</td><td>Tier 1</td><td>Supermarket Type1</td><td>3735.138</td></tr><tr><td>FDA03</td><td>18.5</td><td>Regular</td><td>0.045463773</td><td>Dairy</td><td>144.1102</td><td>OUT046</td><td>1997</td><td>Small</td><td>Tier 1</td><td>Supermarket Type1</td><td>2187.153</td></tr><tr><td>FDU02</td><td>13.35</td><td>Low Fat</td><td>0.10249212</td><td>Dairy</td><td>230.5352</td><td>OUT035</td><td>2004</td><td>Small</td><td>Tier 2</td><td>Supermarket Type1</td><td>2748.4224</td></tr><tr><td>FDE51</td><td>5.925</td><td>Regular</td><td>0.161466534</td><td>Dairy</td><td>45.5086</td><td>OUT010</td><td>1998</td><td>null</td><td>Tier 3</td><td>Grocery Store</td><td>178.4344</td></tr><tr><td>FDV38</td><td>19.25</td><td>Low Fat</td><td>0.170348551</td><td>Dairy</td><td>55.7956</td><td>OUT010</td><td>1998</td><td>null</td><td>Tier 3</td><td>Grocery Store</td><td>163.7868</td></tr></tbody></table></div>"
      ]
     },
     "metadata": {
      "application/vnd.databricks.v1+output": {
       "addedWidgets": {},
       "aggData": [],
       "aggError": "",
       "aggOverflow": false,
       "aggSchema": [],
       "aggSeriesLimitReached": false,
       "aggType": "",
       "arguments": {},
       "columnCustomDisplayInfos": {},
       "data": [
        [
         "FDA15",
         9.3,
         "Low Fat",
         0.016047301,
         "Dairy",
         249.8092,
         "OUT049",
         1999,
         "Medium",
         "Tier 1",
         "Supermarket Type1",
         3735.138
        ],
        [
         "FDA03",
         18.5,
         "Regular",
         0.045463773,
         "Dairy",
         144.1102,
         "OUT046",
         1997,
         "Small",
         "Tier 1",
         "Supermarket Type1",
         2187.153
        ],
        [
         "FDU02",
         13.35,
         "Low Fat",
         0.10249212,
         "Dairy",
         230.5352,
         "OUT035",
         2004,
         "Small",
         "Tier 2",
         "Supermarket Type1",
         2748.4224
        ],
        [
         "FDE51",
         5.925,
         "Regular",
         0.161466534,
         "Dairy",
         45.5086,
         "OUT010",
         1998,
         null,
         "Tier 3",
         "Grocery Store",
         178.4344
        ],
        [
         "FDV38",
         19.25,
         "Low Fat",
         0.170348551,
         "Dairy",
         55.7956,
         "OUT010",
         1998,
         null,
         "Tier 3",
         "Grocery Store",
         163.7868
        ]
       ],
       "datasetInfos": [],
       "dbfsResultPath": null,
       "isJsonSchema": true,
       "metadata": {},
       "overflow": false,
       "plotOptions": {
        "customPlotOptions": {},
        "displayType": "table",
        "pivotAggregation": null,
        "pivotColumns": null,
        "xColumns": null,
        "yColumns": null
       },
       "removedWidgets": [],
       "schema": [
        {
         "metadata": "{}",
         "name": "Item_Identifier",
         "type": "\"string\""
        },
        {
         "metadata": "{}",
         "name": "Item_Weight",
         "type": "\"double\""
        },
        {
         "metadata": "{}",
         "name": "Item_Fat_Content",
         "type": "\"string\""
        },
        {
         "metadata": "{}",
         "name": "Item_Visibility",
         "type": "\"double\""
        },
        {
         "metadata": "{}",
         "name": "Item_Type",
         "type": "\"string\""
        },
        {
         "metadata": "{}",
         "name": "Item_MRP",
         "type": "\"double\""
        },
        {
         "metadata": "{}",
         "name": "Outlet_Identifier",
         "type": "\"string\""
        },
        {
         "metadata": "{}",
         "name": "Outlet_Establishment_Year",
         "type": "\"integer\""
        },
        {
         "metadata": "{}",
         "name": "Outlet_Size",
         "type": "\"string\""
        },
        {
         "metadata": "{}",
         "name": "Outlet_Location_Type",
         "type": "\"string\""
        },
        {
         "metadata": "{}",
         "name": "Outlet_Type",
         "type": "\"string\""
        },
        {
         "metadata": "{}",
         "name": "Item_Outlet_Sales",
         "type": "\"double\""
        }
       ],
       "type": "table"
      }
     },
     "output_type": "display_data"
    }
   ],
   "source": [
    "df_filter = df.filter(col('Item_Type')=='Dairy')\n",
    "df_filter.limit(5).display()"
   ]
  },
  {
   "cell_type": "code",
   "execution_count": 0,
   "metadata": {
    "application/vnd.databricks.v1+cell": {
     "cellMetadata": {
      "byteLimit": 2048000,
      "rowLimit": 10000
     },
     "inputWidgets": {},
     "nuid": "d5616bbb-9cfe-49a9-bb4f-86ee07e8c55f",
     "showTitle": false,
     "tableResultSettingsMap": {},
     "title": ""
    }
   },
   "outputs": [
    {
     "output_type": "display_data",
     "data": {
      "text/html": [
       "<style scoped>\n",
       "  .table-result-container {\n",
       "    max-height: 300px;\n",
       "    overflow: auto;\n",
       "  }\n",
       "  table, th, td {\n",
       "    border: 1px solid black;\n",
       "    border-collapse: collapse;\n",
       "  }\n",
       "  th, td {\n",
       "    padding: 5px;\n",
       "  }\n",
       "  th {\n",
       "    text-align: left;\n",
       "  }\n",
       "</style><div class='table-result-container'><table class='table-result'><thead style='background-color: white'><tr><th>Item_Type</th><th>Item_Sold</th></tr></thead><tbody><tr><td>Canned</td><td>649</td></tr><tr><td>Meat</td><td>425</td></tr><tr><td>Starchy Foods</td><td>148</td></tr><tr><td>Baking Goods</td><td>648</td></tr><tr><td>Snack Foods</td><td>1200</td></tr></tbody></table></div>"
      ]
     },
     "metadata": {
      "application/vnd.databricks.v1+output": {
       "addedWidgets": {},
       "aggData": [],
       "aggError": "",
       "aggOverflow": false,
       "aggSchema": [],
       "aggSeriesLimitReached": false,
       "aggType": "",
       "arguments": {},
       "columnCustomDisplayInfos": {},
       "data": [
        [
         "Canned",
         649
        ],
        [
         "Meat",
         425
        ],
        [
         "Starchy Foods",
         148
        ],
        [
         "Baking Goods",
         648
        ],
        [
         "Snack Foods",
         1200
        ]
       ],
       "datasetInfos": [],
       "dbfsResultPath": null,
       "isJsonSchema": true,
       "metadata": {},
       "overflow": false,
       "plotOptions": {
        "customPlotOptions": {},
        "displayType": "table",
        "pivotAggregation": null,
        "pivotColumns": null,
        "xColumns": null,
        "yColumns": null
       },
       "removedWidgets": [],
       "schema": [
        {
         "metadata": "{}",
         "name": "Item_Type",
         "type": "\"string\""
        },
        {
         "metadata": "{}",
         "name": "Item_Sold",
         "type": "\"long\""
        }
       ],
       "type": "table"
      }
     },
     "output_type": "display_data"
    }
   ],
   "source": [
    "df_group = df.groupBy('Item_Type').agg(count(col('Item_Identifier')).alias('Item_Sold'))\n",
    "df_group.limit(5).display()"
   ]
  },
  {
   "cell_type": "code",
   "execution_count": 0,
   "metadata": {
    "application/vnd.databricks.v1+cell": {
     "cellMetadata": {
      "byteLimit": 2048000,
      "rowLimit": 10000
     },
     "inputWidgets": {},
     "nuid": "e475326f-4ae0-4e1e-9b52-d87b9fd43cb6",
     "showTitle": false,
     "tableResultSettingsMap": {},
     "title": ""
    }
   },
   "outputs": [
    {
     "output_type": "display_data",
     "data": {
      "text/html": [
       "<style scoped>\n",
       "  .table-result-container {\n",
       "    max-height: 300px;\n",
       "    overflow: auto;\n",
       "  }\n",
       "  table, th, td {\n",
       "    border: 1px solid black;\n",
       "    border-collapse: collapse;\n",
       "  }\n",
       "  th, td {\n",
       "    padding: 5px;\n",
       "  }\n",
       "  th {\n",
       "    text-align: left;\n",
       "  }\n",
       "</style><div class='table-result-container'><table class='table-result'><thead style='background-color: white'><tr><th>Item_Identifier</th><th>Item_Weight</th><th>Item_Fat_Content</th><th>Item_Visibility</th><th>Item_Type</th><th>Item_MRP</th><th>Outlet_Identifier</th><th>Outlet_Establishment_Year</th><th>Outlet_Size</th><th>Outlet_Location_Type</th><th>Outlet_Type</th><th>Item_Outlet_Sales</th></tr></thead><tbody><tr><td>DRA12</td><td>11.6</td><td>LF</td><td>0.0</td><td>Soft Drinks</td><td>141.9154</td><td>OUT035</td><td>2004</td><td>Small</td><td>Tier 2</td><td>Supermarket Type1</td><td>992.7078</td></tr><tr><td>DRA12</td><td>11.6</td><td>Low Fat</td><td>0.041112694</td><td>Soft Drinks</td><td>142.0154</td><td>OUT018</td><td>2009</td><td>Medium</td><td>Tier 3</td><td>Supermarket Type2</td><td>850.8924</td></tr><tr><td>DRA24</td><td>null</td><td>Regular</td><td>0.039734882</td><td>Soft Drinks</td><td>165.7868</td><td>OUT027</td><td>1985</td><td>Medium</td><td>Tier 3</td><td>Supermarket Type3</td><td>4913.604</td></tr><tr><td>DRA24</td><td>19.35</td><td>Regular</td><td>0.039920687</td><td>Soft Drinks</td><td>163.3868</td><td>OUT035</td><td>2004</td><td>Small</td><td>Tier 2</td><td>Supermarket Type1</td><td>3439.5228</td></tr><tr><td>DRA24</td><td>19.35</td><td>Regular</td><td>0.066831682</td><td>Soft Drinks</td><td>163.8868</td><td>OUT010</td><td>1998</td><td>null</td><td>Tier 3</td><td>Grocery Store</td><td>327.5736</td></tr></tbody></table></div>"
      ]
     },
     "metadata": {
      "application/vnd.databricks.v1+output": {
       "addedWidgets": {},
       "aggData": [],
       "aggError": "",
       "aggOverflow": false,
       "aggSchema": [],
       "aggSeriesLimitReached": false,
       "aggType": "",
       "arguments": {},
       "columnCustomDisplayInfos": {},
       "data": [
        [
         "DRA12",
         11.6,
         "LF",
         0.0,
         "Soft Drinks",
         141.9154,
         "OUT035",
         2004,
         "Small",
         "Tier 2",
         "Supermarket Type1",
         992.7078
        ],
        [
         "DRA12",
         11.6,
         "Low Fat",
         0.041112694,
         "Soft Drinks",
         142.0154,
         "OUT018",
         2009,
         "Medium",
         "Tier 3",
         "Supermarket Type2",
         850.8924
        ],
        [
         "DRA24",
         null,
         "Regular",
         0.039734882,
         "Soft Drinks",
         165.7868,
         "OUT027",
         1985,
         "Medium",
         "Tier 3",
         "Supermarket Type3",
         4913.604
        ],
        [
         "DRA24",
         19.35,
         "Regular",
         0.039920687,
         "Soft Drinks",
         163.3868,
         "OUT035",
         2004,
         "Small",
         "Tier 2",
         "Supermarket Type1",
         3439.5228
        ],
        [
         "DRA24",
         19.35,
         "Regular",
         0.066831682,
         "Soft Drinks",
         163.8868,
         "OUT010",
         1998,
         null,
         "Tier 3",
         "Grocery Store",
         327.5736
        ]
       ],
       "datasetInfos": [],
       "dbfsResultPath": null,
       "isJsonSchema": true,
       "metadata": {},
       "overflow": false,
       "plotOptions": {
        "customPlotOptions": {},
        "displayType": "table",
        "pivotAggregation": null,
        "pivotColumns": null,
        "xColumns": null,
        "yColumns": null
       },
       "removedWidgets": [],
       "schema": [
        {
         "metadata": "{}",
         "name": "Item_Identifier",
         "type": "\"string\""
        },
        {
         "metadata": "{}",
         "name": "Item_Weight",
         "type": "\"double\""
        },
        {
         "metadata": "{}",
         "name": "Item_Fat_Content",
         "type": "\"string\""
        },
        {
         "metadata": "{}",
         "name": "Item_Visibility",
         "type": "\"double\""
        },
        {
         "metadata": "{}",
         "name": "Item_Type",
         "type": "\"string\""
        },
        {
         "metadata": "{}",
         "name": "Item_MRP",
         "type": "\"double\""
        },
        {
         "metadata": "{}",
         "name": "Outlet_Identifier",
         "type": "\"string\""
        },
        {
         "metadata": "{}",
         "name": "Outlet_Establishment_Year",
         "type": "\"integer\""
        },
        {
         "metadata": "{}",
         "name": "Outlet_Size",
         "type": "\"string\""
        },
        {
         "metadata": "{}",
         "name": "Outlet_Location_Type",
         "type": "\"string\""
        },
        {
         "metadata": "{}",
         "name": "Outlet_Type",
         "type": "\"string\""
        },
        {
         "metadata": "{}",
         "name": "Item_Outlet_Sales",
         "type": "\"double\""
        }
       ],
       "type": "table"
      }
     },
     "output_type": "display_data"
    }
   ],
   "source": [
    "df = df.repartition(3)\n",
    "df.limit(5).display()"
   ]
  },
  {
   "cell_type": "code",
   "execution_count": 0,
   "metadata": {
    "application/vnd.databricks.v1+cell": {
     "cellMetadata": {
      "byteLimit": 2048000,
      "rowLimit": 10000
     },
     "inputWidgets": {},
     "nuid": "ebf10a7a-0354-49c1-91c4-f52f270480b1",
     "showTitle": false,
     "tableResultSettingsMap": {},
     "title": ""
    }
   },
   "outputs": [
    {
     "output_type": "display_data",
     "data": {
      "text/html": [
       "<style scoped>\n",
       "  .table-result-container {\n",
       "    max-height: 300px;\n",
       "    overflow: auto;\n",
       "  }\n",
       "  table, th, td {\n",
       "    border: 1px solid black;\n",
       "    border-collapse: collapse;\n",
       "  }\n",
       "  th, td {\n",
       "    padding: 5px;\n",
       "  }\n",
       "  th {\n",
       "    text-align: left;\n",
       "  }\n",
       "</style><div class='table-result-container'><table class='table-result'><thead style='background-color: white'><tr><th>Item_Identifier</th><th>Item_Weight</th><th>Item_Fat_Content</th><th>Item_Visibility</th><th>Item_Type</th><th>Item_MRP</th><th>Outlet_Identifier</th><th>Outlet_Establishment_Year</th><th>Outlet_Size</th><th>Outlet_Location_Type</th><th>Outlet_Type</th><th>Item_Outlet_Sales</th></tr></thead><tbody><tr><td>DRA12</td><td>11.6</td><td>LF</td><td>0.0</td><td>Soft Drinks</td><td>141.9154</td><td>OUT035</td><td>2004</td><td>Small</td><td>Tier 2</td><td>Supermarket Type1</td><td>992.7078</td></tr><tr><td>DRA12</td><td>11.6</td><td>Low Fat</td><td>0.041112694</td><td>Soft Drinks</td><td>142.0154</td><td>OUT018</td><td>2009</td><td>Medium</td><td>Tier 3</td><td>Supermarket Type2</td><td>850.8924</td></tr><tr><td>DRA24</td><td>null</td><td>Regular</td><td>0.039734882</td><td>Soft Drinks</td><td>165.7868</td><td>OUT027</td><td>1985</td><td>Medium</td><td>Tier 3</td><td>Supermarket Type3</td><td>4913.604</td></tr><tr><td>DRA24</td><td>19.35</td><td>Regular</td><td>0.039920687</td><td>Soft Drinks</td><td>163.3868</td><td>OUT035</td><td>2004</td><td>Small</td><td>Tier 2</td><td>Supermarket Type1</td><td>3439.5228</td></tr><tr><td>DRA24</td><td>19.35</td><td>Regular</td><td>0.066831682</td><td>Soft Drinks</td><td>163.8868</td><td>OUT010</td><td>1998</td><td>null</td><td>Tier 3</td><td>Grocery Store</td><td>327.5736</td></tr></tbody></table></div>"
      ]
     },
     "metadata": {
      "application/vnd.databricks.v1+output": {
       "addedWidgets": {},
       "aggData": [],
       "aggError": "",
       "aggOverflow": false,
       "aggSchema": [],
       "aggSeriesLimitReached": false,
       "aggType": "",
       "arguments": {},
       "columnCustomDisplayInfos": {},
       "data": [
        [
         "DRA12",
         11.6,
         "LF",
         0.0,
         "Soft Drinks",
         141.9154,
         "OUT035",
         2004,
         "Small",
         "Tier 2",
         "Supermarket Type1",
         992.7078
        ],
        [
         "DRA12",
         11.6,
         "Low Fat",
         0.041112694,
         "Soft Drinks",
         142.0154,
         "OUT018",
         2009,
         "Medium",
         "Tier 3",
         "Supermarket Type2",
         850.8924
        ],
        [
         "DRA24",
         null,
         "Regular",
         0.039734882,
         "Soft Drinks",
         165.7868,
         "OUT027",
         1985,
         "Medium",
         "Tier 3",
         "Supermarket Type3",
         4913.604
        ],
        [
         "DRA24",
         19.35,
         "Regular",
         0.039920687,
         "Soft Drinks",
         163.3868,
         "OUT035",
         2004,
         "Small",
         "Tier 2",
         "Supermarket Type1",
         3439.5228
        ],
        [
         "DRA24",
         19.35,
         "Regular",
         0.066831682,
         "Soft Drinks",
         163.8868,
         "OUT010",
         1998,
         null,
         "Tier 3",
         "Grocery Store",
         327.5736
        ]
       ],
       "datasetInfos": [],
       "dbfsResultPath": null,
       "isJsonSchema": true,
       "metadata": {},
       "overflow": false,
       "plotOptions": {
        "customPlotOptions": {},
        "displayType": "table",
        "pivotAggregation": null,
        "pivotColumns": null,
        "xColumns": null,
        "yColumns": null
       },
       "removedWidgets": [],
       "schema": [
        {
         "metadata": "{}",
         "name": "Item_Identifier",
         "type": "\"string\""
        },
        {
         "metadata": "{}",
         "name": "Item_Weight",
         "type": "\"double\""
        },
        {
         "metadata": "{}",
         "name": "Item_Fat_Content",
         "type": "\"string\""
        },
        {
         "metadata": "{}",
         "name": "Item_Visibility",
         "type": "\"double\""
        },
        {
         "metadata": "{}",
         "name": "Item_Type",
         "type": "\"string\""
        },
        {
         "metadata": "{}",
         "name": "Item_MRP",
         "type": "\"double\""
        },
        {
         "metadata": "{}",
         "name": "Outlet_Identifier",
         "type": "\"string\""
        },
        {
         "metadata": "{}",
         "name": "Outlet_Establishment_Year",
         "type": "\"integer\""
        },
        {
         "metadata": "{}",
         "name": "Outlet_Size",
         "type": "\"string\""
        },
        {
         "metadata": "{}",
         "name": "Outlet_Location_Type",
         "type": "\"string\""
        },
        {
         "metadata": "{}",
         "name": "Outlet_Type",
         "type": "\"string\""
        },
        {
         "metadata": "{}",
         "name": "Item_Outlet_Sales",
         "type": "\"double\""
        }
       ],
       "type": "table"
      }
     },
     "output_type": "display_data"
    }
   ],
   "source": [
    "df= df.coalesce(1)\n",
    "df.limit(5).display()"
   ]
  },
  {
   "cell_type": "code",
   "execution_count": 0,
   "metadata": {
    "application/vnd.databricks.v1+cell": {
     "cellMetadata": {
      "byteLimit": 2048000,
      "rowLimit": 10000
     },
     "inputWidgets": {},
     "nuid": "cf2fd4e2-8a89-4a04-9524-ec1bdbfebb55",
     "showTitle": false,
     "tableResultSettingsMap": {},
     "title": ""
    }
   },
   "outputs": [
    {
     "output_type": "stream",
     "name": "stdout",
     "output_type": "stream",
     "text": [
      "== Physical Plan ==\nAdaptiveSparkPlan isFinalPlan=false\n+- == Initial Plan ==\n   Coalesce 1\n   +- ColumnarToRow\n      +- PhotonResultStage\n         +- PhotonShuffleExchangeSource\n            +- PhotonShuffleMapStage\n               +- PhotonShuffleExchangeSink RoundRobinPartitioning(3)\n                  +- PhotonSort [Item_Identifier#13106 ASC NULLS FIRST, Item_Weight#13107 ASC NULLS FIRST, Item_Fat_Content#13108 ASC NULLS FIRST, Item_Visibility#13109 ASC NULLS FIRST, Item_Type#13110 ASC NULLS FIRST, Item_MRP#13111 ASC NULLS FIRST, Outlet_Identifier#13112 ASC NULLS FIRST, Outlet_Establishment_Year#13113 ASC NULLS FIRST, Outlet_Size#13114 ASC NULLS FIRST, Outlet_Location_Type#13115 ASC NULLS FIRST, Outlet_Type#13116 ASC NULLS FIRST, Item_Outlet_Sales#13117 ASC NULLS FIRST]\n                     +- PhotonRowToColumnar\n                        +- FileScan csv [Item_Identifier#13106,Item_Weight#13107,Item_Fat_Content#13108,Item_Visibility#13109,Item_Type#13110,Item_MRP#13111,Outlet_Identifier#13112,Outlet_Establishment_Year#13113,Outlet_Size#13114,Outlet_Location_Type#13115,Outlet_Type#13116,Item_Outlet_Sales#13117] Batched: false, DataFilters: [], Format: CSV, Location: InMemoryFileIndex(1 paths)[dbfs:/Volumes/workspace/mart_schema/mart_volume/big_mart_sales.csv], PartitionFilters: [], PushedFilters: [], ReadSchema: struct<Item_Identifier:string,Item_Weight:double,Item_Fat_Content:string,Item_Visibility:double,I...\n\n\n== Photon Explanation ==\nPhoton does not fully support the query because:\n\t\tUnsupported node: Coalesce 1.\n\nReference node:\n\tCoalesce 1\n\n"
     ]
    }
   ],
   "source": [
    "df.explain()"
   ]
  },
  {
   "cell_type": "code",
   "execution_count": 0,
   "metadata": {
    "application/vnd.databricks.v1+cell": {
     "cellMetadata": {
      "byteLimit": 2048000,
      "rowLimit": 10000
     },
     "inputWidgets": {},
     "nuid": "943f29bd-d922-4fce-869e-dc5ff7be62bd",
     "showTitle": false,
     "tableResultSettingsMap": {},
     "title": ""
    }
   },
   "outputs": [
    {
     "output_type": "display_data",
     "data": {
      "text/html": [
       "<style scoped>\n",
       "  .table-result-container {\n",
       "    max-height: 300px;\n",
       "    overflow: auto;\n",
       "  }\n",
       "  table, th, td {\n",
       "    border: 1px solid black;\n",
       "    border-collapse: collapse;\n",
       "  }\n",
       "  th, td {\n",
       "    padding: 5px;\n",
       "  }\n",
       "  th {\n",
       "    text-align: left;\n",
       "  }\n",
       "</style><div class='table-result-container'><table class='table-result'><thead style='background-color: white'><tr><th>Outlet_Type</th><th>Total_Sales</th></tr></thead><tbody><tr><td>Grocery Store</td><td>368034.26599999936</td></tr><tr><td>Supermarket Type1</td><td>1.2917342263000036E7</td></tr><tr><td>Supermarket Type2</td><td>1851822.8299999996</td></tr><tr><td>Supermarket Type3</td><td>3453926.051400003</td></tr></tbody></table></div>"
      ]
     },
     "metadata": {
      "application/vnd.databricks.v1+output": {
       "addedWidgets": {},
       "aggData": [],
       "aggError": "",
       "aggOverflow": false,
       "aggSchema": [],
       "aggSeriesLimitReached": false,
       "aggType": "",
       "arguments": {},
       "columnCustomDisplayInfos": {},
       "data": [
        [
         "Grocery Store",
         368034.26599999936
        ],
        [
         "Supermarket Type1",
         1.2917342263000036E7
        ],
        [
         "Supermarket Type2",
         1851822.8299999996
        ],
        [
         "Supermarket Type3",
         3453926.051400003
        ]
       ],
       "datasetInfos": [],
       "dbfsResultPath": null,
       "isJsonSchema": true,
       "metadata": {},
       "overflow": false,
       "plotOptions": {
        "customPlotOptions": {},
        "displayType": "table",
        "pivotAggregation": null,
        "pivotColumns": null,
        "xColumns": null,
        "yColumns": null
       },
       "removedWidgets": [],
       "schema": [
        {
         "metadata": "{}",
         "name": "Outlet_Type",
         "type": "\"string\""
        },
        {
         "metadata": "{}",
         "name": "Total_Sales",
         "type": "\"double\""
        }
       ],
       "type": "table"
      }
     },
     "output_type": "display_data"
    }
   ],
   "source": [
    "df_transform = df.select('Outlet_Type','Item_Outlet_Sales')\n",
    "df_transform = df_transform.groupBy('Outlet_Type').agg(sum(col('Item_Outlet_Sales')).alias('Total_Sales'))\n",
    "df_transform = df_transform.orderBy(col('Outlet_Type'))\n",
    "df_transform.display()"
   ]
  },
  {
   "cell_type": "code",
   "execution_count": 0,
   "metadata": {
    "application/vnd.databricks.v1+cell": {
     "cellMetadata": {
      "byteLimit": 2048000,
      "rowLimit": 10000
     },
     "inputWidgets": {},
     "nuid": "dfaf04d2-eb9e-419b-8467-f847507951a1",
     "showTitle": false,
     "tableResultSettingsMap": {},
     "title": ""
    }
   },
   "outputs": [
    {
     "output_type": "display_data",
     "data": {
      "text/html": [
       "<style scoped>\n",
       "  .table-result-container {\n",
       "    max-height: 300px;\n",
       "    overflow: auto;\n",
       "  }\n",
       "  table, th, td {\n",
       "    border: 1px solid black;\n",
       "    border-collapse: collapse;\n",
       "  }\n",
       "  th, td {\n",
       "    padding: 5px;\n",
       "  }\n",
       "  th {\n",
       "    text-align: left;\n",
       "  }\n",
       "</style><div class='table-result-container'><table class='table-result'><thead style='background-color: white'><tr><th>Item_Identifier</th><th>Item_Weight</th><th>Item_Fat_Content</th><th>Item_Visibility</th><th>Item_Type</th><th>Item_MRP</th><th>Outlet_Identifier</th><th>Outlet_Establishment_Year</th><th>Outlet_Size</th><th>Outlet_Location_Type</th><th>Outlet_Type</th><th>Item_Outlet_Sales</th></tr></thead><tbody><tr><td>DRA12</td><td>11.6</td><td>LF</td><td>0.0</td><td>Soft Drinks</td><td>141.9154</td><td>OUT045</td><td>2002</td><td>null</td><td>Tier 2</td><td>Supermarket Type1</td><td>3829.0158</td></tr><tr><td>DRA12</td><td>11.6</td><td>LF</td><td>0.0</td><td>Soft Drinks</td><td>141.9154</td><td>OUT017</td><td>2007</td><td>null</td><td>Tier 2</td><td>Supermarket Type1</td><td>2552.6772</td></tr><tr><td>DRA12</td><td>11.6</td><td>LF</td><td>0.0</td><td>Soft Drinks</td><td>141.9154</td><td>OUT035</td><td>2004</td><td>Small</td><td>Tier 2</td><td>Supermarket Type1</td><td>992.7078</td></tr><tr><td>DRA12</td><td>11.6</td><td>LF</td><td>0.0</td><td>Soft Drinks</td><td>141.9154</td><td>OUT013</td><td>1987</td><td>High</td><td>Tier 3</td><td>Supermarket Type1</td><td>2552.6772</td></tr><tr><td>DRA12</td><td>11.6</td><td>LF</td><td>0.0</td><td>Soft Drinks</td><td>141.9154</td><td>OUT018</td><td>2009</td><td>Medium</td><td>Tier 3</td><td>Supermarket Type2</td><td>850.8924</td></tr></tbody></table></div>"
      ]
     },
     "metadata": {
      "application/vnd.databricks.v1+output": {
       "addedWidgets": {},
       "aggData": [],
       "aggError": "",
       "aggOverflow": false,
       "aggSchema": [],
       "aggSeriesLimitReached": false,
       "aggType": "",
       "arguments": {},
       "columnCustomDisplayInfos": {},
       "data": [
        [
         "DRA12",
         11.6,
         "LF",
         0.0,
         "Soft Drinks",
         141.9154,
         "OUT045",
         2002,
         null,
         "Tier 2",
         "Supermarket Type1",
         3829.0158
        ],
        [
         "DRA12",
         11.6,
         "LF",
         0.0,
         "Soft Drinks",
         141.9154,
         "OUT017",
         2007,
         null,
         "Tier 2",
         "Supermarket Type1",
         2552.6772
        ],
        [
         "DRA12",
         11.6,
         "LF",
         0.0,
         "Soft Drinks",
         141.9154,
         "OUT035",
         2004,
         "Small",
         "Tier 2",
         "Supermarket Type1",
         992.7078
        ],
        [
         "DRA12",
         11.6,
         "LF",
         0.0,
         "Soft Drinks",
         141.9154,
         "OUT013",
         1987,
         "High",
         "Tier 3",
         "Supermarket Type1",
         2552.6772
        ],
        [
         "DRA12",
         11.6,
         "LF",
         0.0,
         "Soft Drinks",
         141.9154,
         "OUT018",
         2009,
         "Medium",
         "Tier 3",
         "Supermarket Type2",
         850.8924
        ]
       ],
       "datasetInfos": [],
       "dbfsResultPath": null,
       "isJsonSchema": true,
       "metadata": {},
       "overflow": false,
       "plotOptions": {
        "customPlotOptions": {},
        "displayType": "table",
        "pivotAggregation": null,
        "pivotColumns": null,
        "xColumns": null,
        "yColumns": null
       },
       "removedWidgets": [],
       "schema": [
        {
         "metadata": "{}",
         "name": "Item_Identifier",
         "type": "\"string\""
        },
        {
         "metadata": "{}",
         "name": "Item_Weight",
         "type": "\"double\""
        },
        {
         "metadata": "{}",
         "name": "Item_Fat_Content",
         "type": "\"string\""
        },
        {
         "metadata": "{}",
         "name": "Item_Visibility",
         "type": "\"double\""
        },
        {
         "metadata": "{}",
         "name": "Item_Type",
         "type": "\"string\""
        },
        {
         "metadata": "{}",
         "name": "Item_MRP",
         "type": "\"double\""
        },
        {
         "metadata": "{}",
         "name": "Outlet_Identifier",
         "type": "\"string\""
        },
        {
         "metadata": "{}",
         "name": "Outlet_Establishment_Year",
         "type": "\"integer\""
        },
        {
         "metadata": "{}",
         "name": "Outlet_Size",
         "type": "\"string\""
        },
        {
         "metadata": "{}",
         "name": "Outlet_Location_Type",
         "type": "\"string\""
        },
        {
         "metadata": "{}",
         "name": "Outlet_Type",
         "type": "\"string\""
        },
        {
         "metadata": "{}",
         "name": "Item_Outlet_Sales",
         "type": "\"double\""
        }
       ],
       "type": "table"
      }
     },
     "output_type": "display_data"
    }
   ],
   "source": [
    "items_table = df.select(\"Item_Identifier\", \"Item_Weight\", \"Item_Fat_Content\",\n",
    "                       \"Item_Visibility\", \"Item_Type\", \"Item_MRP\").distinct()\n",
    " \n",
    "outlets_sales_table = df.select(\"Item_Identifier\", \"Outlet_Identifier\",\n",
    "                               \"Outlet_Establishment_Year\", \"Outlet_Size\",\n",
    "                               \"Outlet_Location_Type\", \"Outlet_Type\", \"Item_Outlet_Sales\")\n",
    " \n",
    "result = items_table.join(outlets_sales_table, \"Item_Identifier\", \"inner\")\n",
    "result.limit(5).display()"
   ]
  },
  {
   "cell_type": "code",
   "execution_count": 0,
   "metadata": {
    "application/vnd.databricks.v1+cell": {
     "cellMetadata": {
      "byteLimit": 2048000,
      "rowLimit": 10000
     },
     "inputWidgets": {},
     "nuid": "585353e4-cdcd-42d0-a65c-96ca857c9e9e",
     "showTitle": false,
     "tableResultSettingsMap": {},
     "title": ""
    }
   },
   "outputs": [],
   "source": [
    "output_path = '/Volumes/workspace/big_mart_schema/big_mart_volume/'"
   ]
  },
  {
   "cell_type": "code",
   "execution_count": 0,
   "metadata": {
    "application/vnd.databricks.v1+cell": {
     "cellMetadata": {
      "byteLimit": 2048000,
      "rowLimit": 10000
     },
     "inputWidgets": {},
     "nuid": "8915cd33-b9bb-45ff-af90-bfad6d4696f7",
     "showTitle": false,
     "tableResultSettingsMap": {},
     "title": ""
    }
   },
   "outputs": [],
   "source": [
    "df.write\\\n",
    "    .mode('overwrite')\\\n",
    "    .partitionBy('Outlet_Type')\\\n",
    "    .parquet(output_path)"
   ]
  }
 ],
 "metadata": {
  "application/vnd.databricks.v1+notebook": {
   "computePreferences": {
    "hardware": {
     "accelerator": null,
     "gpuPoolId": null,
     "memory": null
    }
   },
   "dashboards": [],
   "environmentMetadata": {
    "base_environment": "",
    "environment_version": "2"
   },
   "inputWidgetPreferences": null,
   "language": "python",
   "notebookMetadata": {
    "pythonIndentUnit": 4
   },
   "notebookName": "transformations",
   "widgets": {}
  },
  "language_info": {
   "name": "python"
  }
 },
 "nbformat": 4,
 "nbformat_minor": 0
}