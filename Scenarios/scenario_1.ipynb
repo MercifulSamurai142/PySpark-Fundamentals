{
 "cells": [
  {
   "cell_type": "markdown",
   "metadata": {},
   "source": [
    "### Scenario - A retail company receives daily updates for its product catalog, including new products, price changes, and discontinued items. Instead of overwriting the entire catalog or simply appending new records, they need to upsert the incoming data by updating existing products with the latest information and inserting new ones, ensuring the catalog remains accurate and up to date in real time."
   ]
  },
  {
   "cell_type": "markdown",
   "metadata": {
    "application/vnd.databricks.v1+cell": {
     "cellMetadata": {},
     "inputWidgets": {},
     "nuid": "68d5feea-8baa-4f8c-95a2-f87633ed6598",
     "showTitle": false,
     "tableResultSettingsMap": {},
     "title": ""
    }
   },
   "source": [
    "### **Quering Source**"
   ]
  },
  {
   "cell_type": "code",
   "execution_count": 0,
   "metadata": {
    "application/vnd.databricks.v1+cell": {
     "cellMetadata": {
      "byteLimit": 2048000,
      "implicitDf": true,
      "rowLimit": 10000
     },
     "inputWidgets": {},
     "nuid": "cd11e072-f9bd-41a9-8ad9-a6be2f423a8b",
     "showTitle": false,
     "tableResultSettingsMap": {},
     "title": ""
    }
   },
   "outputs": [
    {
     "data": {
      "text/html": [
       "<style scoped>\n",
       "  .table-result-container {\n",
       "    max-height: 300px;\n",
       "    overflow: auto;\n",
       "  }\n",
       "  table, th, td {\n",
       "    border: 1px solid black;\n",
       "    border-collapse: collapse;\n",
       "  }\n",
       "  th, td {\n",
       "    padding: 5px;\n",
       "  }\n",
       "  th {\n",
       "    text-align: left;\n",
       "  }\n",
       "</style><div class='table-result-container'><table class='table-result'><thead style='background-color: white'><tr><th>id</th><th>name</th><th>price</th><th>category</th><th>updatedDate</th></tr></thead><tbody><tr><td>1</td><td>iPhone</td><td>1000</td><td>electronics</td><td>2025-08-19T06:30:41.376Z</td></tr><tr><td>2</td><td>Macbook</td><td>2000</td><td>electronics</td><td>2025-08-19T06:30:41.376Z</td></tr><tr><td>3</td><td>T-Shirt</td><td>50</td><td>clothing</td><td>2025-08-19T06:30:41.376Z</td></tr><tr><td>4</td><td>Shirt</td><td>100</td><td>clothing</td><td>2025-08-19T06:30:41.376Z</td></tr><tr><td>5</td><td>Pants</td><td>150</td><td>clothing</td><td>2025-08-19T06:30:41.376Z</td></tr><tr><td>5</td><td>Trousers</td><td>150</td><td>clothing</td><td>2025-08-23T11:12:07.314Z</td></tr></tbody></table></div>"
      ]
     },
     "metadata": {
      "application/vnd.databricks.v1+output": {
       "addedWidgets": {},
       "aggData": [],
       "aggError": "",
       "aggOverflow": false,
       "aggSchema": [],
       "aggSeriesLimitReached": false,
       "aggType": "",
       "arguments": {},
       "columnCustomDisplayInfos": {},
       "data": [
        [
         1,
         "iPhone",
         1000,
         "electronics",
         "2025-08-19T06:30:41.376Z"
        ],
        [
         2,
         "Macbook",
         2000,
         "electronics",
         "2025-08-19T06:30:41.376Z"
        ],
        [
         3,
         "T-Shirt",
         50,
         "clothing",
         "2025-08-19T06:30:41.376Z"
        ],
        [
         4,
         "Shirt",
         100,
         "clothing",
         "2025-08-19T06:30:41.376Z"
        ],
        [
         5,
         "Pants",
         150,
         "clothing",
         "2025-08-19T06:30:41.376Z"
        ],
        [
         5,
         "Trousers",
         150,
         "clothing",
         "2025-08-23T11:12:07.314Z"
        ]
       ],
       "datasetInfos": [
        {
         "name": "_sqldf",
         "schema": {
          "fields": [
           {
            "metadata": {},
            "name": "id",
            "nullable": true,
            "type": "integer"
           },
           {
            "metadata": {},
            "name": "name",
            "nullable": true,
            "type": "string"
           },
           {
            "metadata": {},
            "name": "price",
            "nullable": true,
            "type": "integer"
           },
           {
            "metadata": {},
            "name": "category",
            "nullable": true,
            "type": "string"
           },
           {
            "metadata": {},
            "name": "updatedDate",
            "nullable": true,
            "type": "timestamp"
           }
          ],
          "type": "struct"
         },
         "tableIdentifier": null,
         "typeStr": "pyspark.sql.connect.dataframe.DataFrame"
        }
       ],
       "dbfsResultPath": null,
       "isJsonSchema": true,
       "metadata": {
        "createTempViewForImplicitDf": true,
        "dataframeName": "_sqldf",
        "executionCount": 9
       },
       "overflow": false,
       "plotOptions": {
        "customPlotOptions": {},
        "displayType": "table",
        "pivotAggregation": null,
        "pivotColumns": null,
        "xColumns": null,
        "yColumns": null
       },
       "removedWidgets": [],
       "schema": [
        {
         "metadata": "{}",
         "name": "id",
         "type": "\"integer\""
        },
        {
         "metadata": "{}",
         "name": "name",
         "type": "\"string\""
        },
        {
         "metadata": "{}",
         "name": "price",
         "type": "\"integer\""
        },
        {
         "metadata": "{}",
         "name": "category",
         "type": "\"string\""
        },
        {
         "metadata": "{}",
         "name": "updatedDate",
         "type": "\"timestamp\""
        }
       ],
       "type": "table"
      }
     },
     "output_type": "display_data"
    }
   ],
   "source": [
    "%sql\n",
    "SELECT * FROM pyspark_cata.source.products"
   ]
  },
  {
   "cell_type": "code",
   "execution_count": 0,
   "metadata": {
    "application/vnd.databricks.v1+cell": {
     "cellMetadata": {
      "byteLimit": 2048000,
      "rowLimit": 10000
     },
     "inputWidgets": {},
     "nuid": "96544a89-92a5-4d3b-9965-955d1072ead7",
     "showTitle": false,
     "tableResultSettingsMap": {},
     "title": ""
    }
   },
   "outputs": [
    {
     "data": {
      "text/html": [
       "<style scoped>\n",
       "  .table-result-container {\n",
       "    max-height: 300px;\n",
       "    overflow: auto;\n",
       "  }\n",
       "  table, th, td {\n",
       "    border: 1px solid black;\n",
       "    border-collapse: collapse;\n",
       "  }\n",
       "  th, td {\n",
       "    padding: 5px;\n",
       "  }\n",
       "  th {\n",
       "    text-align: left;\n",
       "  }\n",
       "</style><div class='table-result-container'><table class='table-result'><thead style='background-color: white'><tr><th>id</th><th>name</th><th>price</th><th>category</th><th>updatedDate</th></tr></thead><tbody><tr><td>1</td><td>iPhone</td><td>1000</td><td>electronics</td><td>2025-08-19T06:30:41.376Z</td></tr><tr><td>2</td><td>Macbook</td><td>2000</td><td>electronics</td><td>2025-08-19T06:30:41.376Z</td></tr><tr><td>3</td><td>T-Shirt</td><td>50</td><td>clothing</td><td>2025-08-19T06:30:41.376Z</td></tr><tr><td>4</td><td>Shirt</td><td>100</td><td>clothing</td><td>2025-08-19T06:30:41.376Z</td></tr><tr><td>5</td><td>Pants</td><td>150</td><td>clothing</td><td>2025-08-19T06:30:41.376Z</td></tr><tr><td>5</td><td>Trousers</td><td>150</td><td>clothing</td><td>2025-08-23T11:12:07.314Z</td></tr></tbody></table></div>"
      ]
     },
     "metadata": {
      "application/vnd.databricks.v1+output": {
       "addedWidgets": {},
       "aggData": [],
       "aggError": "",
       "aggOverflow": false,
       "aggSchema": [],
       "aggSeriesLimitReached": false,
       "aggType": "",
       "arguments": {},
       "columnCustomDisplayInfos": {},
       "data": [
        [
         1,
         "iPhone",
         1000,
         "electronics",
         "2025-08-19T06:30:41.376Z"
        ],
        [
         2,
         "Macbook",
         2000,
         "electronics",
         "2025-08-19T06:30:41.376Z"
        ],
        [
         3,
         "T-Shirt",
         50,
         "clothing",
         "2025-08-19T06:30:41.376Z"
        ],
        [
         4,
         "Shirt",
         100,
         "clothing",
         "2025-08-19T06:30:41.376Z"
        ],
        [
         5,
         "Pants",
         150,
         "clothing",
         "2025-08-19T06:30:41.376Z"
        ],
        [
         5,
         "Trousers",
         150,
         "clothing",
         "2025-08-23T11:12:07.314Z"
        ]
       ],
       "datasetInfos": [],
       "dbfsResultPath": null,
       "isJsonSchema": true,
       "metadata": {},
       "overflow": false,
       "plotOptions": {
        "customPlotOptions": {},
        "displayType": "table",
        "pivotAggregation": null,
        "pivotColumns": null,
        "xColumns": null,
        "yColumns": null
       },
       "removedWidgets": [],
       "schema": [
        {
         "metadata": "{}",
         "name": "id",
         "type": "\"integer\""
        },
        {
         "metadata": "{}",
         "name": "name",
         "type": "\"string\""
        },
        {
         "metadata": "{}",
         "name": "price",
         "type": "\"integer\""
        },
        {
         "metadata": "{}",
         "name": "category",
         "type": "\"string\""
        },
        {
         "metadata": "{}",
         "name": "updatedDate",
         "type": "\"timestamp\""
        }
       ],
       "type": "table"
      }
     },
     "output_type": "display_data"
    }
   ],
   "source": [
    "# df = spark.read.table('pyspark_cata.source.products')\n",
    "df = spark.sql(\"select * from pyspark_cata.source.products\")\n",
    "df.display()"
   ]
  },
  {
   "cell_type": "code",
   "execution_count": 0,
   "metadata": {
    "application/vnd.databricks.v1+cell": {
     "cellMetadata": {
      "byteLimit": 2048000,
      "rowLimit": 10000
     },
     "inputWidgets": {},
     "nuid": "6c3ffac1-a887-4d98-aa97-d7a7a4234498",
     "showTitle": false,
     "tableResultSettingsMap": {},
     "title": ""
    }
   },
   "outputs": [],
   "source": [
    "from pyspark.sql.window import Window\n",
    "from pyspark.sql.functions import *"
   ]
  },
  {
   "cell_type": "code",
   "execution_count": 0,
   "metadata": {
    "application/vnd.databricks.v1+cell": {
     "cellMetadata": {
      "byteLimit": 2048000,
      "rowLimit": 10000
     },
     "inputWidgets": {},
     "nuid": "605cca28-02cc-402a-9043-c4b1d1d9b324",
     "showTitle": false,
     "tableResultSettingsMap": {},
     "title": ""
    }
   },
   "outputs": [
    {
     "data": {
      "text/html": [
       "<style scoped>\n",
       "  .table-result-container {\n",
       "    max-height: 300px;\n",
       "    overflow: auto;\n",
       "  }\n",
       "  table, th, td {\n",
       "    border: 1px solid black;\n",
       "    border-collapse: collapse;\n",
       "  }\n",
       "  th, td {\n",
       "    padding: 5px;\n",
       "  }\n",
       "  th {\n",
       "    text-align: left;\n",
       "  }\n",
       "</style><div class='table-result-container'><table class='table-result'><thead style='background-color: white'><tr><th>id</th><th>name</th><th>price</th><th>category</th><th>updatedDate</th><th>dedup</th></tr></thead><tbody><tr><td>1</td><td>iPhone</td><td>1000</td><td>electronics</td><td>2025-08-19T06:30:41.376Z</td><td>1</td></tr><tr><td>2</td><td>Macbook</td><td>2000</td><td>electronics</td><td>2025-08-19T06:30:41.376Z</td><td>1</td></tr><tr><td>3</td><td>T-Shirt</td><td>50</td><td>clothing</td><td>2025-08-19T06:30:41.376Z</td><td>1</td></tr><tr><td>4</td><td>Shirt</td><td>100</td><td>clothing</td><td>2025-08-19T06:30:41.376Z</td><td>1</td></tr><tr><td>5</td><td>Trousers</td><td>150</td><td>clothing</td><td>2025-08-23T11:12:07.314Z</td><td>1</td></tr><tr><td>5</td><td>Pants</td><td>150</td><td>clothing</td><td>2025-08-19T06:30:41.376Z</td><td>2</td></tr></tbody></table></div>"
      ]
     },
     "metadata": {
      "application/vnd.databricks.v1+output": {
       "addedWidgets": {},
       "aggData": [],
       "aggError": "",
       "aggOverflow": false,
       "aggSchema": [],
       "aggSeriesLimitReached": false,
       "aggType": "",
       "arguments": {},
       "columnCustomDisplayInfos": {},
       "data": [
        [
         1,
         "iPhone",
         1000,
         "electronics",
         "2025-08-19T06:30:41.376Z",
         1
        ],
        [
         2,
         "Macbook",
         2000,
         "electronics",
         "2025-08-19T06:30:41.376Z",
         1
        ],
        [
         3,
         "T-Shirt",
         50,
         "clothing",
         "2025-08-19T06:30:41.376Z",
         1
        ],
        [
         4,
         "Shirt",
         100,
         "clothing",
         "2025-08-19T06:30:41.376Z",
         1
        ],
        [
         5,
         "Trousers",
         150,
         "clothing",
         "2025-08-23T11:12:07.314Z",
         1
        ],
        [
         5,
         "Pants",
         150,
         "clothing",
         "2025-08-19T06:30:41.376Z",
         2
        ]
       ],
       "datasetInfos": [],
       "dbfsResultPath": null,
       "isJsonSchema": true,
       "metadata": {},
       "overflow": false,
       "plotOptions": {
        "customPlotOptions": {},
        "displayType": "table",
        "pivotAggregation": null,
        "pivotColumns": null,
        "xColumns": null,
        "yColumns": null
       },
       "removedWidgets": [],
       "schema": [
        {
         "metadata": "{}",
         "name": "id",
         "type": "\"integer\""
        },
        {
         "metadata": "{}",
         "name": "name",
         "type": "\"string\""
        },
        {
         "metadata": "{}",
         "name": "price",
         "type": "\"integer\""
        },
        {
         "metadata": "{}",
         "name": "category",
         "type": "\"string\""
        },
        {
         "metadata": "{}",
         "name": "updatedDate",
         "type": "\"timestamp\""
        },
        {
         "metadata": "{}",
         "name": "dedup",
         "type": "\"integer\""
        }
       ],
       "type": "table"
      }
     },
     "output_type": "display_data"
    }
   ],
   "source": [
    "#Dedup\n",
    "df = df.withColumn('dedup',row_number().over(\n",
    "    Window.partitionBy('id')\\\n",
    "    .orderBy(desc('updatedDate'))\n",
    "    ))\n",
    "df.display()"
   ]
  },
  {
   "cell_type": "code",
   "execution_count": 0,
   "metadata": {
    "application/vnd.databricks.v1+cell": {
     "cellMetadata": {
      "byteLimit": 2048000,
      "rowLimit": 10000
     },
     "inputWidgets": {},
     "nuid": "95dab3d8-e452-480a-8764-921668173241",
     "showTitle": false,
     "tableResultSettingsMap": {},
     "title": ""
    }
   },
   "outputs": [
    {
     "data": {
      "text/html": [
       "<style scoped>\n",
       "  .table-result-container {\n",
       "    max-height: 300px;\n",
       "    overflow: auto;\n",
       "  }\n",
       "  table, th, td {\n",
       "    border: 1px solid black;\n",
       "    border-collapse: collapse;\n",
       "  }\n",
       "  th, td {\n",
       "    padding: 5px;\n",
       "  }\n",
       "  th {\n",
       "    text-align: left;\n",
       "  }\n",
       "</style><div class='table-result-container'><table class='table-result'><thead style='background-color: white'><tr><th>id</th><th>name</th><th>price</th><th>category</th><th>updatedDate</th></tr></thead><tbody><tr><td>1</td><td>iPhone</td><td>1000</td><td>electronics</td><td>2025-08-19T06:30:41.376Z</td></tr><tr><td>2</td><td>Macbook</td><td>2000</td><td>electronics</td><td>2025-08-19T06:30:41.376Z</td></tr><tr><td>3</td><td>T-Shirt</td><td>50</td><td>clothing</td><td>2025-08-19T06:30:41.376Z</td></tr><tr><td>4</td><td>Shirt</td><td>100</td><td>clothing</td><td>2025-08-19T06:30:41.376Z</td></tr><tr><td>5</td><td>Trousers</td><td>150</td><td>clothing</td><td>2025-08-23T11:12:07.314Z</td></tr></tbody></table></div>"
      ]
     },
     "metadata": {
      "application/vnd.databricks.v1+output": {
       "addedWidgets": {},
       "aggData": [],
       "aggError": "",
       "aggOverflow": false,
       "aggSchema": [],
       "aggSeriesLimitReached": false,
       "aggType": "",
       "arguments": {},
       "columnCustomDisplayInfos": {},
       "data": [
        [
         1,
         "iPhone",
         1000,
         "electronics",
         "2025-08-19T06:30:41.376Z"
        ],
        [
         2,
         "Macbook",
         2000,
         "electronics",
         "2025-08-19T06:30:41.376Z"
        ],
        [
         3,
         "T-Shirt",
         50,
         "clothing",
         "2025-08-19T06:30:41.376Z"
        ],
        [
         4,
         "Shirt",
         100,
         "clothing",
         "2025-08-19T06:30:41.376Z"
        ],
        [
         5,
         "Trousers",
         150,
         "clothing",
         "2025-08-23T11:12:07.314Z"
        ]
       ],
       "datasetInfos": [],
       "dbfsResultPath": null,
       "isJsonSchema": true,
       "metadata": {},
       "overflow": false,
       "plotOptions": {
        "customPlotOptions": {},
        "displayType": "table",
        "pivotAggregation": null,
        "pivotColumns": null,
        "xColumns": null,
        "yColumns": null
       },
       "removedWidgets": [],
       "schema": [
        {
         "metadata": "{}",
         "name": "id",
         "type": "\"integer\""
        },
        {
         "metadata": "{}",
         "name": "name",
         "type": "\"string\""
        },
        {
         "metadata": "{}",
         "name": "price",
         "type": "\"integer\""
        },
        {
         "metadata": "{}",
         "name": "category",
         "type": "\"string\""
        },
        {
         "metadata": "{}",
         "name": "updatedDate",
         "type": "\"timestamp\""
        }
       ],
       "type": "table"
      }
     },
     "output_type": "display_data"
    }
   ],
   "source": [
    "#Filter and keep the latest entry (since orderBy desc, latest will be 1) and drop dedup column\n",
    "df = df.filter(\n",
    "    col('dedup')==1\n",
    ").drop('dedup')\n",
    "df.display()"
   ]
  },
  {
   "cell_type": "markdown",
   "metadata": {
    "application/vnd.databricks.v1+cell": {
     "cellMetadata": {},
     "inputWidgets": {},
     "nuid": "6d28a87a-cbf5-4ec0-b083-92cf82a6a450",
     "showTitle": false,
     "tableResultSettingsMap": {},
     "title": ""
    }
   },
   "source": [
    "### **Upserts**"
   ]
  },
  {
   "cell_type": "code",
   "execution_count": 0,
   "metadata": {
    "application/vnd.databricks.v1+cell": {
     "cellMetadata": {
      "byteLimit": 2048000,
      "rowLimit": 10000
     },
     "inputWidgets": {},
     "nuid": "7d937c99-dadf-4875-8089-c635b1066b69",
     "showTitle": false,
     "tableResultSettingsMap": {},
     "title": ""
    }
   },
   "outputs": [
    {
     "name": "stdout",
     "output_type": "stream",
     "text": [
      "Upserting\n"
     ]
    }
   ],
   "source": [
    "#creating delta objects\n",
    "from delta.tables import DeltaTable\n",
    "\n",
    "try:\n",
    "    dlt_obj = DeltaTable.forPath(spark,'/Volumes/pyspark_cata/source/db_volume/products_sink/')\n",
    "\n",
    "    dlt_obj.alias('trg').merge(\n",
    "        df.alias('src'),\n",
    "        'src.id = trg.id'\n",
    "    ).whenMatchedUpdateAll(condition='src.updatedDate >= trg.updatedDate')\\\n",
    "        .whenNotMatchedInsertAll()\\\n",
    "        .execute()\n",
    "    print('Upserting')\n",
    "except:\n",
    "    df.write.format('delta')\\\n",
    "        .mode('Overwrite')\\\n",
    "        .save('/Volumes/pyspark_cata/source/db_volume/products_sink/')\n",
    "    print('Writing')"
   ]
  },
  {
   "cell_type": "code",
   "execution_count": 0,
   "metadata": {
    "application/vnd.databricks.v1+cell": {
     "cellMetadata": {
      "byteLimit": 2048000,
      "implicitDf": true,
      "rowLimit": 10000
     },
     "inputWidgets": {},
     "nuid": "a2ef442e-734a-427f-8f7f-7ec8e59f204d",
     "showTitle": false,
     "tableResultSettingsMap": {},
     "title": ""
    }
   },
   "outputs": [
    {
     "data": {
      "text/html": [
       "<style scoped>\n",
       "  .table-result-container {\n",
       "    max-height: 300px;\n",
       "    overflow: auto;\n",
       "  }\n",
       "  table, th, td {\n",
       "    border: 1px solid black;\n",
       "    border-collapse: collapse;\n",
       "  }\n",
       "  th, td {\n",
       "    padding: 5px;\n",
       "  }\n",
       "  th {\n",
       "    text-align: left;\n",
       "  }\n",
       "</style><div class='table-result-container'><table class='table-result'><thead style='background-color: white'><tr><th>id</th><th>name</th><th>price</th><th>category</th><th>updatedDate</th></tr></thead><tbody><tr><td>1</td><td>iPhone</td><td>1000</td><td>electronics</td><td>2025-08-19T06:30:41.376Z</td></tr><tr><td>4</td><td>Shirt</td><td>100</td><td>clothing</td><td>2025-08-19T06:30:41.376Z</td></tr><tr><td>3</td><td>T-Shirt</td><td>50</td><td>clothing</td><td>2025-08-19T06:30:41.376Z</td></tr><tr><td>2</td><td>Macbook</td><td>2000</td><td>electronics</td><td>2025-08-19T06:30:41.376Z</td></tr><tr><td>5</td><td>Trousers</td><td>150</td><td>clothing</td><td>2025-08-23T11:12:07.314Z</td></tr></tbody></table></div>"
      ]
     },
     "metadata": {
      "application/vnd.databricks.v1+output": {
       "addedWidgets": {},
       "aggData": [],
       "aggError": "",
       "aggOverflow": false,
       "aggSchema": [],
       "aggSeriesLimitReached": false,
       "aggType": "",
       "arguments": {},
       "columnCustomDisplayInfos": {},
       "data": [
        [
         1,
         "iPhone",
         1000,
         "electronics",
         "2025-08-19T06:30:41.376Z"
        ],
        [
         4,
         "Shirt",
         100,
         "clothing",
         "2025-08-19T06:30:41.376Z"
        ],
        [
         3,
         "T-Shirt",
         50,
         "clothing",
         "2025-08-19T06:30:41.376Z"
        ],
        [
         2,
         "Macbook",
         2000,
         "electronics",
         "2025-08-19T06:30:41.376Z"
        ],
        [
         5,
         "Trousers",
         150,
         "clothing",
         "2025-08-23T11:12:07.314Z"
        ]
       ],
       "datasetInfos": [
        {
         "name": "_sqldf",
         "schema": {
          "fields": [
           {
            "metadata": {},
            "name": "id",
            "nullable": true,
            "type": "integer"
           },
           {
            "metadata": {},
            "name": "name",
            "nullable": true,
            "type": "string"
           },
           {
            "metadata": {},
            "name": "price",
            "nullable": true,
            "type": "integer"
           },
           {
            "metadata": {},
            "name": "category",
            "nullable": true,
            "type": "string"
           },
           {
            "metadata": {},
            "name": "updatedDate",
            "nullable": true,
            "type": "timestamp"
           }
          ],
          "type": "struct"
         },
         "tableIdentifier": null,
         "typeStr": "pyspark.sql.connect.dataframe.DataFrame"
        }
       ],
       "dbfsResultPath": null,
       "isJsonSchema": true,
       "metadata": {
        "createTempViewForImplicitDf": true,
        "dataframeName": "_sqldf",
        "executionCount": 14
       },
       "overflow": false,
       "plotOptions": {
        "customPlotOptions": {},
        "displayType": "table",
        "pivotAggregation": null,
        "pivotColumns": null,
        "xColumns": null,
        "yColumns": null
       },
       "removedWidgets": [],
       "schema": [
        {
         "metadata": "{}",
         "name": "id",
         "type": "\"integer\""
        },
        {
         "metadata": "{}",
         "name": "name",
         "type": "\"string\""
        },
        {
         "metadata": "{}",
         "name": "price",
         "type": "\"integer\""
        },
        {
         "metadata": "{}",
         "name": "category",
         "type": "\"string\""
        },
        {
         "metadata": "{}",
         "name": "updatedDate",
         "type": "\"timestamp\""
        }
       ],
       "type": "table"
      }
     },
     "output_type": "display_data"
    }
   ],
   "source": [
    "%sql\n",
    "SELECT * FROM delta.`/Volumes/pyspark_cata/source/db_volume/products_sink`"
   ]
  }
 ],
 "metadata": {
  "application/vnd.databricks.v1+notebook": {
   "computePreferences": {
    "hardware": {
     "accelerator": null,
     "gpuPoolId": null,
     "memory": null
    }
   },
   "dashboards": [],
   "environmentMetadata": {
    "base_environment": "",
    "environment_version": "2"
   },
   "inputWidgetPreferences": null,
   "language": "python",
   "notebookMetadata": {
    "mostRecentlyExecutedCommandWithImplicitDF": {
     "commandId": 5403273830687992,
     "dataframes": [
      "_sqldf"
     ]
    },
    "pythonIndentUnit": 4
   },
   "notebookName": "scenario_1",
   "widgets": {}
  },
  "language_info": {
   "name": "python"
  }
 },
 "nbformat": 4,
 "nbformat_minor": 0
}
