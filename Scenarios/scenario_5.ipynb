{
 "cells": [
  {
   "cell_type": "code",
   "execution_count": 0,
   "metadata": {
    "application/vnd.databricks.v1+cell": {
     "cellMetadata": {
      "byteLimit": 2048000,
      "implicitDf": true,
      "rowLimit": 10000
     },
     "inputWidgets": {},
     "nuid": "3ca13792-9aa9-4acf-87dd-96ee646c249e",
     "showTitle": false,
     "tableResultSettingsMap": {},
     "title": ""
    }
   },
   "outputs": [],
   "source": [
    "%sql\n",
    "CREATE TABLE pyspark_cata.source.customers\n",
    "(\n",
    "  id STRING,\n",
    "  email STRING,\n",
    "  city STRING,\n",
    "  country STRING,\n",
    "  modifiedDate TIMESTAMP\n",
    ")"
   ]
  },
  {
   "cell_type": "code",
   "execution_count": 0,
   "metadata": {
    "application/vnd.databricks.v1+cell": {
     "cellMetadata": {
      "byteLimit": 2048000,
      "implicitDf": true,
      "rowLimit": 10000
     },
     "inputWidgets": {},
     "nuid": "da8e3649-567f-49b6-8a64-cdd009b51a6b",
     "showTitle": false,
     "tableResultSettingsMap": {},
     "title": ""
    }
   },
   "outputs": [
    {
     "output_type": "display_data",
     "data": {
      "text/html": [
       "<style scoped>\n",
       "  .table-result-container {\n",
       "    max-height: 300px;\n",
       "    overflow: auto;\n",
       "  }\n",
       "  table, th, td {\n",
       "    border: 1px solid black;\n",
       "    border-collapse: collapse;\n",
       "  }\n",
       "  th, td {\n",
       "    padding: 5px;\n",
       "  }\n",
       "  th {\n",
       "    text-align: left;\n",
       "  }\n",
       "</style><div class='table-result-container'><table class='table-result'><thead style='background-color: white'><tr><th>num_affected_rows</th><th>num_inserted_rows</th></tr></thead><tbody><tr><td>5</td><td>5</td></tr></tbody></table></div>"
      ]
     },
     "metadata": {
      "application/vnd.databricks.v1+output": {
       "addedWidgets": {},
       "aggData": [],
       "aggError": "",
       "aggOverflow": false,
       "aggSchema": [],
       "aggSeriesLimitReached": false,
       "aggType": "",
       "arguments": {},
       "columnCustomDisplayInfos": {},
       "data": [
        [
         5,
         5
        ]
       ],
       "datasetInfos": [
        {
         "name": "_sqldf",
         "schema": {
          "fields": [
           {
            "metadata": {},
            "name": "num_affected_rows",
            "nullable": true,
            "type": "long"
           },
           {
            "metadata": {},
            "name": "num_inserted_rows",
            "nullable": true,
            "type": "long"
           }
          ],
          "type": "struct"
         },
         "tableIdentifier": null,
         "typeStr": "pyspark.sql.connect.dataframe.DataFrame"
        }
       ],
       "dbfsResultPath": null,
       "isJsonSchema": true,
       "metadata": {
        "createTempViewForImplicitDf": true,
        "dataframeName": "_sqldf",
        "executionCount": 31
       },
       "overflow": false,
       "plotOptions": {
        "customPlotOptions": {},
        "displayType": "table",
        "pivotAggregation": null,
        "pivotColumns": null,
        "xColumns": null,
        "yColumns": null
       },
       "removedWidgets": [],
       "schema": [
        {
         "metadata": "{}",
         "name": "num_affected_rows",
         "type": "\"long\""
        },
        {
         "metadata": "{}",
         "name": "num_inserted_rows",
         "type": "\"long\""
        }
       ],
       "type": "table"
      }
     },
     "output_type": "display_data"
    }
   ],
   "source": [
    "%sql\n",
    "INSERT INTO pyspark_cata.source.customers\n",
    "VALUES\n",
    "('1','john.smith@example.com','New York','USA',current_timestamp()),\n",
    "('2','jane.doe@example.com','London','UK',current_timestamp()),\n",
    "('3','bob.smith@example.com','Paris','France',current_timestamp()),\n",
    "('4','mary.jones@example.com','Tokyo','Japan',current_timestamp()),\n",
    "('5','peter.smith@example.com','Sydney','Australia',current_timestamp())"
   ]
  },
  {
   "cell_type": "code",
   "execution_count": 0,
   "metadata": {
    "application/vnd.databricks.v1+cell": {
     "cellMetadata": {
      "byteLimit": 2048000,
      "implicitDf": true,
      "rowLimit": 10000
     },
     "inputWidgets": {},
     "nuid": "340ccbf5-2ca8-4a4d-a555-414c6a7d37c3",
     "showTitle": false,
     "tableResultSettingsMap": {},
     "title": ""
    }
   },
   "outputs": [
    {
     "output_type": "display_data",
     "data": {
      "text/html": [
       "<style scoped>\n",
       "  .table-result-container {\n",
       "    max-height: 300px;\n",
       "    overflow: auto;\n",
       "  }\n",
       "  table, th, td {\n",
       "    border: 1px solid black;\n",
       "    border-collapse: collapse;\n",
       "  }\n",
       "  th, td {\n",
       "    padding: 5px;\n",
       "  }\n",
       "  th {\n",
       "    text-align: left;\n",
       "  }\n",
       "</style><div class='table-result-container'><table class='table-result'><thead style='background-color: white'><tr><th>id</th><th>email</th><th>city</th><th>country</th><th>modifiedDate</th></tr></thead><tbody><tr><td>1</td><td>john.smith@example.com</td><td>New York</td><td>USA</td><td>2025-08-24T14:13:34.403Z</td></tr><tr><td>2</td><td>jane.doe@example.com</td><td>London</td><td>UK</td><td>2025-08-24T14:13:34.403Z</td></tr><tr><td>3</td><td>bob.smith@example.com</td><td>Paris</td><td>France</td><td>2025-08-24T14:13:34.403Z</td></tr><tr><td>4</td><td>mary.jones@example.com</td><td>Tokyo</td><td>Japan</td><td>2025-08-24T14:13:34.403Z</td></tr><tr><td>5</td><td>peter.smith@example.com</td><td>Sydney</td><td>Australia</td><td>2025-08-24T14:13:34.403Z</td></tr></tbody></table></div>"
      ]
     },
     "metadata": {
      "application/vnd.databricks.v1+output": {
       "addedWidgets": {},
       "aggData": [],
       "aggError": "",
       "aggOverflow": false,
       "aggSchema": [],
       "aggSeriesLimitReached": false,
       "aggType": "",
       "arguments": {},
       "columnCustomDisplayInfos": {},
       "data": [
        [
         "1",
         "john.smith@example.com",
         "New York",
         "USA",
         "2025-08-24T14:13:34.403Z"
        ],
        [
         "2",
         "jane.doe@example.com",
         "London",
         "UK",
         "2025-08-24T14:13:34.403Z"
        ],
        [
         "3",
         "bob.smith@example.com",
         "Paris",
         "France",
         "2025-08-24T14:13:34.403Z"
        ],
        [
         "4",
         "mary.jones@example.com",
         "Tokyo",
         "Japan",
         "2025-08-24T14:13:34.403Z"
        ],
        [
         "5",
         "peter.smith@example.com",
         "Sydney",
         "Australia",
         "2025-08-24T14:13:34.403Z"
        ]
       ],
       "datasetInfos": [
        {
         "name": "_sqldf",
         "schema": {
          "fields": [
           {
            "metadata": {},
            "name": "id",
            "nullable": true,
            "type": "string"
           },
           {
            "metadata": {},
            "name": "email",
            "nullable": true,
            "type": "string"
           },
           {
            "metadata": {},
            "name": "city",
            "nullable": true,
            "type": "string"
           },
           {
            "metadata": {},
            "name": "country",
            "nullable": true,
            "type": "string"
           },
           {
            "metadata": {},
            "name": "modifiedDate",
            "nullable": true,
            "type": "timestamp"
           }
          ],
          "type": "struct"
         },
         "tableIdentifier": null,
         "typeStr": "pyspark.sql.connect.dataframe.DataFrame"
        }
       ],
       "dbfsResultPath": null,
       "isJsonSchema": true,
       "metadata": {
        "createTempViewForImplicitDf": true,
        "dataframeName": "_sqldf",
        "executionCount": 33
       },
       "overflow": false,
       "plotOptions": {
        "customPlotOptions": {},
        "displayType": "table",
        "pivotAggregation": null,
        "pivotColumns": null,
        "xColumns": null,
        "yColumns": null
       },
       "removedWidgets": [],
       "schema": [
        {
         "metadata": "{}",
         "name": "id",
         "type": "\"string\""
        },
        {
         "metadata": "{}",
         "name": "email",
         "type": "\"string\""
        },
        {
         "metadata": "{}",
         "name": "city",
         "type": "\"string\""
        },
        {
         "metadata": "{}",
         "name": "country",
         "type": "\"string\""
        },
        {
         "metadata": "{}",
         "name": "modifiedDate",
         "type": "\"timestamp\""
        }
       ],
       "type": "table"
      }
     },
     "output_type": "display_data"
    }
   ],
   "source": [
    "%sql\n",
    "SELECT * FROM pyspark_cata.source.customers"
   ]
  },
  {
   "cell_type": "code",
   "execution_count": 0,
   "metadata": {
    "application/vnd.databricks.v1+cell": {
     "cellMetadata": {
      "byteLimit": 2048000,
      "rowLimit": 10000
     },
     "inputWidgets": {},
     "nuid": "d28e524a-c1de-4921-8093-5048ff4ceedf",
     "showTitle": false,
     "tableResultSettingsMap": {},
     "title": ""
    }
   },
   "outputs": [],
   "source": [
    "if spark.catalog.tableExists(\"pyspark_cata.source.DimCustomers\"):\n",
    "    pass\n",
    "else:\n",
    "    spark.sql(\"\"\"\n",
    "              CREATE TABLE pyspark_cata.source.DimCustomers\n",
    "              SELECT *,\n",
    "              current_timestamp() AS startTime,\n",
    "              CAST('3000-01-01' AS TIMESTAMP) as endTime,\n",
    "              'Y' as isActive\n",
    "              FROM pyspark_cata.source.customers\n",
    "              \"\"\")"
   ]
  },
  {
   "cell_type": "code",
   "execution_count": 0,
   "metadata": {
    "application/vnd.databricks.v1+cell": {
     "cellMetadata": {
      "byteLimit": 2048000,
      "implicitDf": true,
      "rowLimit": 10000
     },
     "inputWidgets": {},
     "nuid": "f615aa49-6757-4a7b-a01b-c74555658ec8",
     "showTitle": false,
     "tableResultSettingsMap": {},
     "title": ""
    }
   },
   "outputs": [
    {
     "output_type": "display_data",
     "data": {
      "text/html": [
       "<style scoped>\n",
       "  .table-result-container {\n",
       "    max-height: 300px;\n",
       "    overflow: auto;\n",
       "  }\n",
       "  table, th, td {\n",
       "    border: 1px solid black;\n",
       "    border-collapse: collapse;\n",
       "  }\n",
       "  th, td {\n",
       "    padding: 5px;\n",
       "  }\n",
       "  th {\n",
       "    text-align: left;\n",
       "  }\n",
       "</style><div class='table-result-container'><table class='table-result'><thead style='background-color: white'><tr><th>id</th><th>email</th><th>city</th><th>country</th><th>modifiedDate</th><th>startTime</th><th>endTime</th><th>isActive</th></tr></thead><tbody><tr><td>1</td><td>john.smith@example.com</td><td>New York</td><td>USA</td><td>2025-08-24T14:13:34.403Z</td><td>2025-08-24T14:14:30.548Z</td><td>3000-01-01T00:00:00.000Z</td><td>Y</td></tr><tr><td>2</td><td>jane.doe@example.com</td><td>London</td><td>UK</td><td>2025-08-24T14:13:34.403Z</td><td>2025-08-24T14:14:30.548Z</td><td>3000-01-01T00:00:00.000Z</td><td>Y</td></tr><tr><td>3</td><td>bob.smith@example.com</td><td>Paris</td><td>France</td><td>2025-08-24T14:13:34.403Z</td><td>2025-08-24T14:14:30.548Z</td><td>3000-01-01T00:00:00.000Z</td><td>Y</td></tr><tr><td>4</td><td>mary.jones@example.com</td><td>Tokyo</td><td>Japan</td><td>2025-08-24T14:13:34.403Z</td><td>2025-08-24T14:14:30.548Z</td><td>3000-01-01T00:00:00.000Z</td><td>Y</td></tr><tr><td>5</td><td>peter.smith@example.com</td><td>Sydney</td><td>Australia</td><td>2025-08-24T14:13:34.403Z</td><td>2025-08-24T14:14:30.548Z</td><td>3000-01-01T00:00:00.000Z</td><td>Y</td></tr></tbody></table></div>"
      ]
     },
     "metadata": {
      "application/vnd.databricks.v1+output": {
       "addedWidgets": {},
       "aggData": [],
       "aggError": "",
       "aggOverflow": false,
       "aggSchema": [],
       "aggSeriesLimitReached": false,
       "aggType": "",
       "arguments": {},
       "columnCustomDisplayInfos": {},
       "data": [
        [
         "1",
         "john.smith@example.com",
         "New York",
         "USA",
         "2025-08-24T14:13:34.403Z",
         "2025-08-24T14:14:30.548Z",
         "3000-01-01T00:00:00.000Z",
         "Y"
        ],
        [
         "2",
         "jane.doe@example.com",
         "London",
         "UK",
         "2025-08-24T14:13:34.403Z",
         "2025-08-24T14:14:30.548Z",
         "3000-01-01T00:00:00.000Z",
         "Y"
        ],
        [
         "3",
         "bob.smith@example.com",
         "Paris",
         "France",
         "2025-08-24T14:13:34.403Z",
         "2025-08-24T14:14:30.548Z",
         "3000-01-01T00:00:00.000Z",
         "Y"
        ],
        [
         "4",
         "mary.jones@example.com",
         "Tokyo",
         "Japan",
         "2025-08-24T14:13:34.403Z",
         "2025-08-24T14:14:30.548Z",
         "3000-01-01T00:00:00.000Z",
         "Y"
        ],
        [
         "5",
         "peter.smith@example.com",
         "Sydney",
         "Australia",
         "2025-08-24T14:13:34.403Z",
         "2025-08-24T14:14:30.548Z",
         "3000-01-01T00:00:00.000Z",
         "Y"
        ]
       ],
       "datasetInfos": [
        {
         "name": "_sqldf",
         "schema": {
          "fields": [
           {
            "metadata": {},
            "name": "id",
            "nullable": true,
            "type": "string"
           },
           {
            "metadata": {},
            "name": "email",
            "nullable": true,
            "type": "string"
           },
           {
            "metadata": {},
            "name": "city",
            "nullable": true,
            "type": "string"
           },
           {
            "metadata": {},
            "name": "country",
            "nullable": true,
            "type": "string"
           },
           {
            "metadata": {},
            "name": "modifiedDate",
            "nullable": true,
            "type": "timestamp"
           },
           {
            "metadata": {},
            "name": "startTime",
            "nullable": true,
            "type": "timestamp"
           },
           {
            "metadata": {},
            "name": "endTime",
            "nullable": true,
            "type": "timestamp"
           },
           {
            "metadata": {},
            "name": "isActive",
            "nullable": true,
            "type": "string"
           }
          ],
          "type": "struct"
         },
         "tableIdentifier": null,
         "typeStr": "pyspark.sql.connect.dataframe.DataFrame"
        }
       ],
       "dbfsResultPath": null,
       "isJsonSchema": true,
       "metadata": {
        "createTempViewForImplicitDf": true,
        "dataframeName": "_sqldf",
        "executionCount": 36
       },
       "overflow": false,
       "plotOptions": {
        "customPlotOptions": {},
        "displayType": "table",
        "pivotAggregation": null,
        "pivotColumns": null,
        "xColumns": null,
        "yColumns": null
       },
       "removedWidgets": [],
       "schema": [
        {
         "metadata": "{}",
         "name": "id",
         "type": "\"string\""
        },
        {
         "metadata": "{}",
         "name": "email",
         "type": "\"string\""
        },
        {
         "metadata": "{}",
         "name": "city",
         "type": "\"string\""
        },
        {
         "metadata": "{}",
         "name": "country",
         "type": "\"string\""
        },
        {
         "metadata": "{}",
         "name": "modifiedDate",
         "type": "\"timestamp\""
        },
        {
         "metadata": "{}",
         "name": "startTime",
         "type": "\"timestamp\""
        },
        {
         "metadata": "{}",
         "name": "endTime",
         "type": "\"timestamp\""
        },
        {
         "metadata": "{}",
         "name": "isActive",
         "type": "\"string\""
        }
       ],
       "type": "table"
      }
     },
     "output_type": "display_data"
    }
   ],
   "source": [
    "%sql\n",
    "SELECT * FROM pyspark_cata.source.dimcustomers"
   ]
  },
  {
   "cell_type": "markdown",
   "metadata": {
    "application/vnd.databricks.v1+cell": {
     "cellMetadata": {},
     "inputWidgets": {},
     "nuid": "03d72723-7c88-4f1f-8d85-820f7f5c8fd8",
     "showTitle": false,
     "tableResultSettingsMap": {},
     "title": ""
    }
   },
   "source": [
    "## **SCD Type-2**"
   ]
  },
  {
   "cell_type": "code",
   "execution_count": 0,
   "metadata": {
    "application/vnd.databricks.v1+cell": {
     "cellMetadata": {
      "byteLimit": 2048000,
      "rowLimit": 10000
     },
     "inputWidgets": {},
     "nuid": "37d33bae-9c66-482b-b189-e5aaa77da141",
     "showTitle": false,
     "tableResultSettingsMap": {},
     "title": ""
    }
   },
   "outputs": [],
   "source": [
    "from pyspark.sql.functions import *\n",
    "from pyspark.sql.window import *\n",
    "from delta.tables import DeltaTable"
   ]
  },
  {
   "cell_type": "code",
   "execution_count": 0,
   "metadata": {
    "application/vnd.databricks.v1+cell": {
     "cellMetadata": {
      "byteLimit": 2048000,
      "rowLimit": 10000
     },
     "inputWidgets": {},
     "nuid": "be786b5a-c0e7-4bb8-b017-8075d0e6dc5c",
     "showTitle": false,
     "tableResultSettingsMap": {},
     "title": ""
    }
   },
   "outputs": [],
   "source": [
    "df = spark.sql(\n",
    "    \"\"\"\n",
    "    SELECT * FROM pyspark_cata.source.customers\n",
    "    \"\"\"\n",
    ")\n",
    "\n",
    "df = df.withColumn(\"dedup\", row_number().over(Window.partitionBy('id').orderBy(desc('modifiedDate'))))\n",
    "df = df.filter(df.dedup == 1).drop('dedup')\n",
    "\n",
    "df.createOrReplaceTempView('srctemp')\n",
    "\n",
    "df = spark.sql(\"\"\"\n",
    "              SELECT *,\n",
    "              current_timestamp() AS startTime,\n",
    "              CAST('3000-01-01' AS TIMESTAMP) as endTime,\n",
    "              'Y' as isActive\n",
    "              FROM srctemp\n",
    "              \"\"\")\n",
    "\n",
    "df.createOrReplaceTempView('src')"
   ]
  },
  {
   "cell_type": "code",
   "execution_count": 0,
   "metadata": {
    "application/vnd.databricks.v1+cell": {
     "cellMetadata": {
      "byteLimit": 2048000,
      "implicitDf": true,
      "rowLimit": 10000
     },
     "inputWidgets": {},
     "nuid": "481a4e2a-8d3e-4738-91f2-018150df5e26",
     "showTitle": false,
     "tableResultSettingsMap": {},
     "title": ""
    }
   },
   "outputs": [
    {
     "output_type": "display_data",
     "data": {
      "text/html": [
       "<style scoped>\n",
       "  .table-result-container {\n",
       "    max-height: 300px;\n",
       "    overflow: auto;\n",
       "  }\n",
       "  table, th, td {\n",
       "    border: 1px solid black;\n",
       "    border-collapse: collapse;\n",
       "  }\n",
       "  th, td {\n",
       "    padding: 5px;\n",
       "  }\n",
       "  th {\n",
       "    text-align: left;\n",
       "  }\n",
       "</style><div class='table-result-container'><table class='table-result'><thead style='background-color: white'><tr><th>id</th><th>email</th><th>city</th><th>country</th><th>modifiedDate</th><th>startTime</th><th>endTime</th><th>isActive</th></tr></thead><tbody><tr><td>1</td><td>john.smith@example.com</td><td>Seattle</td><td>USA</td><td>2025-08-24T16:11:02.145Z</td><td>2025-08-24T16:14:53.820Z</td><td>3000-01-01T00:00:00.000Z</td><td>Y</td></tr><tr><td>2</td><td>jane.doe@example.com</td><td>London</td><td>UK</td><td>2025-08-24T14:13:34.403Z</td><td>2025-08-24T16:14:53.820Z</td><td>3000-01-01T00:00:00.000Z</td><td>Y</td></tr><tr><td>3</td><td>bob.smith@example.com</td><td>Paris</td><td>France</td><td>2025-08-24T14:13:34.403Z</td><td>2025-08-24T16:14:53.820Z</td><td>3000-01-01T00:00:00.000Z</td><td>Y</td></tr><tr><td>4</td><td>mary.jones@example.com</td><td>Tokyo</td><td>Japan</td><td>2025-08-24T14:13:34.403Z</td><td>2025-08-24T16:14:53.820Z</td><td>3000-01-01T00:00:00.000Z</td><td>Y</td></tr><tr><td>5</td><td>peter.smith@example.com</td><td>Sydney</td><td>Australia</td><td>2025-08-24T14:13:34.403Z</td><td>2025-08-24T16:14:53.820Z</td><td>3000-01-01T00:00:00.000Z</td><td>Y</td></tr><tr><td>6</td><td>jane.doe@example.com</td><td>London</td><td>UK</td><td>2025-08-24T16:11:02.145Z</td><td>2025-08-24T16:14:53.820Z</td><td>3000-01-01T00:00:00.000Z</td><td>Y</td></tr></tbody></table></div>"
      ]
     },
     "metadata": {
      "application/vnd.databricks.v1+output": {
       "addedWidgets": {},
       "aggData": [],
       "aggError": "",
       "aggOverflow": false,
       "aggSchema": [],
       "aggSeriesLimitReached": false,
       "aggType": "",
       "arguments": {},
       "columnCustomDisplayInfos": {},
       "data": [
        [
         "1",
         "john.smith@example.com",
         "Seattle",
         "USA",
         "2025-08-24T16:11:02.145Z",
         "2025-08-24T16:14:53.820Z",
         "3000-01-01T00:00:00.000Z",
         "Y"
        ],
        [
         "2",
         "jane.doe@example.com",
         "London",
         "UK",
         "2025-08-24T14:13:34.403Z",
         "2025-08-24T16:14:53.820Z",
         "3000-01-01T00:00:00.000Z",
         "Y"
        ],
        [
         "3",
         "bob.smith@example.com",
         "Paris",
         "France",
         "2025-08-24T14:13:34.403Z",
         "2025-08-24T16:14:53.820Z",
         "3000-01-01T00:00:00.000Z",
         "Y"
        ],
        [
         "4",
         "mary.jones@example.com",
         "Tokyo",
         "Japan",
         "2025-08-24T14:13:34.403Z",
         "2025-08-24T16:14:53.820Z",
         "3000-01-01T00:00:00.000Z",
         "Y"
        ],
        [
         "5",
         "peter.smith@example.com",
         "Sydney",
         "Australia",
         "2025-08-24T14:13:34.403Z",
         "2025-08-24T16:14:53.820Z",
         "3000-01-01T00:00:00.000Z",
         "Y"
        ],
        [
         "6",
         "jane.doe@example.com",
         "London",
         "UK",
         "2025-08-24T16:11:02.145Z",
         "2025-08-24T16:14:53.820Z",
         "3000-01-01T00:00:00.000Z",
         "Y"
        ]
       ],
       "datasetInfos": [
        {
         "name": "_sqldf",
         "schema": {
          "fields": [
           {
            "metadata": {},
            "name": "id",
            "nullable": true,
            "type": "string"
           },
           {
            "metadata": {},
            "name": "email",
            "nullable": true,
            "type": "string"
           },
           {
            "metadata": {},
            "name": "city",
            "nullable": true,
            "type": "string"
           },
           {
            "metadata": {},
            "name": "country",
            "nullable": true,
            "type": "string"
           },
           {
            "metadata": {},
            "name": "modifiedDate",
            "nullable": true,
            "type": "timestamp"
           },
           {
            "metadata": {},
            "name": "startTime",
            "nullable": false,
            "type": "timestamp"
           },
           {
            "metadata": {},
            "name": "endTime",
            "nullable": true,
            "type": "timestamp"
           },
           {
            "metadata": {},
            "name": "isActive",
            "nullable": false,
            "type": "string"
           }
          ],
          "type": "struct"
         },
         "tableIdentifier": null,
         "typeStr": "pyspark.sql.connect.dataframe.DataFrame"
        }
       ],
       "dbfsResultPath": null,
       "isJsonSchema": true,
       "metadata": {
        "createTempViewForImplicitDf": true,
        "dataframeName": "_sqldf",
        "executionCount": 268
       },
       "overflow": false,
       "plotOptions": {
        "customPlotOptions": {},
        "displayType": "table",
        "pivotAggregation": null,
        "pivotColumns": null,
        "xColumns": null,
        "yColumns": null
       },
       "removedWidgets": [],
       "schema": [
        {
         "metadata": "{}",
         "name": "id",
         "type": "\"string\""
        },
        {
         "metadata": "{}",
         "name": "email",
         "type": "\"string\""
        },
        {
         "metadata": "{}",
         "name": "city",
         "type": "\"string\""
        },
        {
         "metadata": "{}",
         "name": "country",
         "type": "\"string\""
        },
        {
         "metadata": "{}",
         "name": "modifiedDate",
         "type": "\"timestamp\""
        },
        {
         "metadata": "{}",
         "name": "startTime",
         "type": "\"timestamp\""
        },
        {
         "metadata": "{}",
         "name": "endTime",
         "type": "\"timestamp\""
        },
        {
         "metadata": "{}",
         "name": "isActive",
         "type": "\"string\""
        }
       ],
       "type": "table"
      }
     },
     "output_type": "display_data"
    }
   ],
   "source": [
    "%sql\n",
    "SELECT * FROM src"
   ]
  },
  {
   "cell_type": "markdown",
   "metadata": {
    "application/vnd.databricks.v1+cell": {
     "cellMetadata": {},
     "inputWidgets": {},
     "nuid": "c2dfad7b-7c51-4574-b5ce-1734d6b91ce1",
     "showTitle": false,
     "tableResultSettingsMap": {},
     "title": ""
    }
   },
   "source": [
    "### **Merge 1 - Marking the updated records as expired**"
   ]
  },
  {
   "cell_type": "code",
   "execution_count": 0,
   "metadata": {
    "application/vnd.databricks.v1+cell": {
     "cellMetadata": {
      "byteLimit": 2048000,
      "implicitDf": true,
      "rowLimit": 10000
     },
     "inputWidgets": {},
     "nuid": "d85fd445-9d84-45d6-955f-4126fadc8c8a",
     "showTitle": false,
     "tableResultSettingsMap": {},
     "title": ""
    }
   },
   "outputs": [
    {
     "output_type": "display_data",
     "data": {
      "text/html": [
       "<style scoped>\n",
       "  .table-result-container {\n",
       "    max-height: 300px;\n",
       "    overflow: auto;\n",
       "  }\n",
       "  table, th, td {\n",
       "    border: 1px solid black;\n",
       "    border-collapse: collapse;\n",
       "  }\n",
       "  th, td {\n",
       "    padding: 5px;\n",
       "  }\n",
       "  th {\n",
       "    text-align: left;\n",
       "  }\n",
       "</style><div class='table-result-container'><table class='table-result'><thead style='background-color: white'><tr><th>num_affected_rows</th><th>num_updated_rows</th><th>num_deleted_rows</th><th>num_inserted_rows</th></tr></thead><tbody><tr><td>1</td><td>1</td><td>0</td><td>0</td></tr></tbody></table></div>"
      ]
     },
     "metadata": {
      "application/vnd.databricks.v1+output": {
       "addedWidgets": {},
       "aggData": [],
       "aggError": "",
       "aggOverflow": false,
       "aggSchema": [],
       "aggSeriesLimitReached": false,
       "aggType": "",
       "arguments": {},
       "columnCustomDisplayInfos": {},
       "data": [
        [
         1,
         1,
         0,
         0
        ]
       ],
       "datasetInfos": [
        {
         "name": "_sqldf",
         "schema": {
          "fields": [
           {
            "metadata": {},
            "name": "num_affected_rows",
            "nullable": true,
            "type": "long"
           },
           {
            "metadata": {},
            "name": "num_updated_rows",
            "nullable": true,
            "type": "long"
           },
           {
            "metadata": {},
            "name": "num_deleted_rows",
            "nullable": true,
            "type": "long"
           },
           {
            "metadata": {},
            "name": "num_inserted_rows",
            "nullable": true,
            "type": "long"
           }
          ],
          "type": "struct"
         },
         "tableIdentifier": null,
         "typeStr": "pyspark.sql.connect.dataframe.DataFrame"
        }
       ],
       "dbfsResultPath": null,
       "isJsonSchema": true,
       "metadata": {
        "createTempViewForImplicitDf": true,
        "dataframeName": "_sqldf",
        "executionCount": 269
       },
       "overflow": false,
       "plotOptions": {
        "customPlotOptions": {},
        "displayType": "table",
        "pivotAggregation": null,
        "pivotColumns": null,
        "xColumns": null,
        "yColumns": null
       },
       "removedWidgets": [],
       "schema": [
        {
         "metadata": "{}",
         "name": "num_affected_rows",
         "type": "\"long\""
        },
        {
         "metadata": "{}",
         "name": "num_updated_rows",
         "type": "\"long\""
        },
        {
         "metadata": "{}",
         "name": "num_deleted_rows",
         "type": "\"long\""
        },
        {
         "metadata": "{}",
         "name": "num_inserted_rows",
         "type": "\"long\""
        }
       ],
       "type": "table"
      }
     },
     "output_type": "display_data"
    }
   ],
   "source": [
    "%sql\n",
    "MERGE INTO pyspark_cata.source.DimCustomers as trg\n",
    "USING src as src\n",
    "ON trg.id = src.id\n",
    "AND trg.isActive = 'Y'\n",
    "\n",
    "WHEN MATCHED AND src.email <> trg.email\n",
    "OR src.city <> trg.city\n",
    "OR src.country <> trg.country\n",
    "OR src.modifiedDate <> trg.modifiedDate\n",
    "\n",
    "THEN UPDATE SET\n",
    "trg.endTime = current_timestamp(),\n",
    "trg.isActive = 'N'"
   ]
  },
  {
   "cell_type": "markdown",
   "metadata": {
    "application/vnd.databricks.v1+cell": {
     "cellMetadata": {},
     "inputWidgets": {},
     "nuid": "3631884c-64ee-47ff-bdc6-2493518e998e",
     "showTitle": false,
     "tableResultSettingsMap": {},
     "title": ""
    }
   },
   "source": [
    "### **Merge 2 - Inserting new + updated records**"
   ]
  },
  {
   "cell_type": "code",
   "execution_count": 0,
   "metadata": {
    "application/vnd.databricks.v1+cell": {
     "cellMetadata": {
      "byteLimit": 2048000,
      "implicitDf": true,
      "rowLimit": 10000
     },
     "inputWidgets": {},
     "nuid": "191b1228-a53c-44a0-a423-bb9d82d48a72",
     "showTitle": false,
     "tableResultSettingsMap": {},
     "title": ""
    }
   },
   "outputs": [
    {
     "output_type": "display_data",
     "data": {
      "text/html": [
       "<style scoped>\n",
       "  .table-result-container {\n",
       "    max-height: 300px;\n",
       "    overflow: auto;\n",
       "  }\n",
       "  table, th, td {\n",
       "    border: 1px solid black;\n",
       "    border-collapse: collapse;\n",
       "  }\n",
       "  th, td {\n",
       "    padding: 5px;\n",
       "  }\n",
       "  th {\n",
       "    text-align: left;\n",
       "  }\n",
       "</style><div class='table-result-container'><table class='table-result'><thead style='background-color: white'><tr><th>num_affected_rows</th><th>num_updated_rows</th><th>num_deleted_rows</th><th>num_inserted_rows</th></tr></thead><tbody><tr><td>2</td><td>0</td><td>0</td><td>2</td></tr></tbody></table></div>"
      ]
     },
     "metadata": {
      "application/vnd.databricks.v1+output": {
       "addedWidgets": {},
       "aggData": [],
       "aggError": "",
       "aggOverflow": false,
       "aggSchema": [],
       "aggSeriesLimitReached": false,
       "aggType": "",
       "arguments": {},
       "columnCustomDisplayInfos": {},
       "data": [
        [
         2,
         0,
         0,
         2
        ]
       ],
       "datasetInfos": [
        {
         "name": "_sqldf",
         "schema": {
          "fields": [
           {
            "metadata": {},
            "name": "num_affected_rows",
            "nullable": true,
            "type": "long"
           },
           {
            "metadata": {},
            "name": "num_updated_rows",
            "nullable": true,
            "type": "long"
           },
           {
            "metadata": {},
            "name": "num_deleted_rows",
            "nullable": true,
            "type": "long"
           },
           {
            "metadata": {},
            "name": "num_inserted_rows",
            "nullable": true,
            "type": "long"
           }
          ],
          "type": "struct"
         },
         "tableIdentifier": null,
         "typeStr": "pyspark.sql.connect.dataframe.DataFrame"
        }
       ],
       "dbfsResultPath": null,
       "isJsonSchema": true,
       "metadata": {
        "createTempViewForImplicitDf": true,
        "dataframeName": "_sqldf",
        "executionCount": 271
       },
       "overflow": false,
       "plotOptions": {
        "customPlotOptions": {},
        "displayType": "table",
        "pivotAggregation": null,
        "pivotColumns": null,
        "xColumns": null,
        "yColumns": null
       },
       "removedWidgets": [],
       "schema": [
        {
         "metadata": "{}",
         "name": "num_affected_rows",
         "type": "\"long\""
        },
        {
         "metadata": "{}",
         "name": "num_updated_rows",
         "type": "\"long\""
        },
        {
         "metadata": "{}",
         "name": "num_deleted_rows",
         "type": "\"long\""
        },
        {
         "metadata": "{}",
         "name": "num_inserted_rows",
         "type": "\"long\""
        }
       ],
       "type": "table"
      }
     },
     "output_type": "display_data"
    }
   ],
   "source": [
    "%sql\n",
    "MERGE INTO pyspark_cata.source.DimCustomers as trg\n",
    "USING src as src\n",
    "ON src.id = trg.id\n",
    "AND trg.isActive = 'Y'\n",
    "\n",
    "WHEN NOT MATCHED THEN INSERT *"
   ]
  },
  {
   "cell_type": "code",
   "execution_count": 0,
   "metadata": {
    "application/vnd.databricks.v1+cell": {
     "cellMetadata": {
      "byteLimit": 2048000,
      "implicitDf": true,
      "rowLimit": 10000
     },
     "inputWidgets": {},
     "nuid": "16da5356-14fc-43d8-b7de-fbbd11f20d6e",
     "showTitle": false,
     "tableResultSettingsMap": {},
     "title": ""
    }
   },
   "outputs": [
    {
     "output_type": "display_data",
     "data": {
      "text/html": [
       "<style scoped>\n",
       "  .table-result-container {\n",
       "    max-height: 300px;\n",
       "    overflow: auto;\n",
       "  }\n",
       "  table, th, td {\n",
       "    border: 1px solid black;\n",
       "    border-collapse: collapse;\n",
       "  }\n",
       "  th, td {\n",
       "    padding: 5px;\n",
       "  }\n",
       "  th {\n",
       "    text-align: left;\n",
       "  }\n",
       "</style><div class='table-result-container'><table class='table-result'><thead style='background-color: white'><tr><th>id</th><th>email</th><th>city</th><th>country</th><th>modifiedDate</th><th>startTime</th><th>endTime</th><th>isActive</th></tr></thead><tbody><tr><td>2</td><td>jane.doe@example.com</td><td>London</td><td>UK</td><td>2025-08-24T14:13:34.403Z</td><td>2025-08-24T14:14:30.548Z</td><td>3000-01-01T00:00:00.000Z</td><td>Y</td></tr><tr><td>3</td><td>bob.smith@example.com</td><td>Paris</td><td>France</td><td>2025-08-24T14:13:34.403Z</td><td>2025-08-24T14:14:30.548Z</td><td>3000-01-01T00:00:00.000Z</td><td>Y</td></tr><tr><td>4</td><td>mary.jones@example.com</td><td>Tokyo</td><td>Japan</td><td>2025-08-24T14:13:34.403Z</td><td>2025-08-24T14:14:30.548Z</td><td>3000-01-01T00:00:00.000Z</td><td>Y</td></tr><tr><td>5</td><td>peter.smith@example.com</td><td>Sydney</td><td>Australia</td><td>2025-08-24T14:13:34.403Z</td><td>2025-08-24T14:14:30.548Z</td><td>3000-01-01T00:00:00.000Z</td><td>Y</td></tr><tr><td>1</td><td>john.smith@example.com</td><td>New York</td><td>USA</td><td>2025-08-24T14:13:34.403Z</td><td>2025-08-24T14:14:30.548Z</td><td>2025-08-24T16:15:15.559Z</td><td>N</td></tr><tr><td>1</td><td>john.smith@example.com</td><td>Seattle</td><td>USA</td><td>2025-08-24T16:11:02.145Z</td><td>2025-08-24T16:15:35.951Z</td><td>3000-01-01T00:00:00.000Z</td><td>Y</td></tr><tr><td>6</td><td>jane.doe@example.com</td><td>London</td><td>UK</td><td>2025-08-24T16:11:02.145Z</td><td>2025-08-24T16:15:35.951Z</td><td>3000-01-01T00:00:00.000Z</td><td>Y</td></tr></tbody></table></div>"
      ]
     },
     "metadata": {
      "application/vnd.databricks.v1+output": {
       "addedWidgets": {},
       "aggData": [],
       "aggError": "",
       "aggOverflow": false,
       "aggSchema": [],
       "aggSeriesLimitReached": false,
       "aggType": "",
       "arguments": {},
       "columnCustomDisplayInfos": {},
       "data": [
        [
         "2",
         "jane.doe@example.com",
         "London",
         "UK",
         "2025-08-24T14:13:34.403Z",
         "2025-08-24T14:14:30.548Z",
         "3000-01-01T00:00:00.000Z",
         "Y"
        ],
        [
         "3",
         "bob.smith@example.com",
         "Paris",
         "France",
         "2025-08-24T14:13:34.403Z",
         "2025-08-24T14:14:30.548Z",
         "3000-01-01T00:00:00.000Z",
         "Y"
        ],
        [
         "4",
         "mary.jones@example.com",
         "Tokyo",
         "Japan",
         "2025-08-24T14:13:34.403Z",
         "2025-08-24T14:14:30.548Z",
         "3000-01-01T00:00:00.000Z",
         "Y"
        ],
        [
         "5",
         "peter.smith@example.com",
         "Sydney",
         "Australia",
         "2025-08-24T14:13:34.403Z",
         "2025-08-24T14:14:30.548Z",
         "3000-01-01T00:00:00.000Z",
         "Y"
        ],
        [
         "1",
         "john.smith@example.com",
         "New York",
         "USA",
         "2025-08-24T14:13:34.403Z",
         "2025-08-24T14:14:30.548Z",
         "2025-08-24T16:15:15.559Z",
         "N"
        ],
        [
         "1",
         "john.smith@example.com",
         "Seattle",
         "USA",
         "2025-08-24T16:11:02.145Z",
         "2025-08-24T16:15:35.951Z",
         "3000-01-01T00:00:00.000Z",
         "Y"
        ],
        [
         "6",
         "jane.doe@example.com",
         "London",
         "UK",
         "2025-08-24T16:11:02.145Z",
         "2025-08-24T16:15:35.951Z",
         "3000-01-01T00:00:00.000Z",
         "Y"
        ]
       ],
       "datasetInfos": [
        {
         "name": "_sqldf",
         "schema": {
          "fields": [
           {
            "metadata": {},
            "name": "id",
            "nullable": true,
            "type": "string"
           },
           {
            "metadata": {},
            "name": "email",
            "nullable": true,
            "type": "string"
           },
           {
            "metadata": {},
            "name": "city",
            "nullable": true,
            "type": "string"
           },
           {
            "metadata": {},
            "name": "country",
            "nullable": true,
            "type": "string"
           },
           {
            "metadata": {},
            "name": "modifiedDate",
            "nullable": true,
            "type": "timestamp"
           },
           {
            "metadata": {},
            "name": "startTime",
            "nullable": true,
            "type": "timestamp"
           },
           {
            "metadata": {},
            "name": "endTime",
            "nullable": true,
            "type": "timestamp"
           },
           {
            "metadata": {},
            "name": "isActive",
            "nullable": true,
            "type": "string"
           }
          ],
          "type": "struct"
         },
         "tableIdentifier": null,
         "typeStr": "pyspark.sql.connect.dataframe.DataFrame"
        }
       ],
       "dbfsResultPath": null,
       "isJsonSchema": true,
       "metadata": {
        "createTempViewForImplicitDf": true,
        "dataframeName": "_sqldf",
        "executionCount": 272
       },
       "overflow": false,
       "plotOptions": {
        "customPlotOptions": {},
        "displayType": "table",
        "pivotAggregation": null,
        "pivotColumns": null,
        "xColumns": null,
        "yColumns": null
       },
       "removedWidgets": [],
       "schema": [
        {
         "metadata": "{}",
         "name": "id",
         "type": "\"string\""
        },
        {
         "metadata": "{}",
         "name": "email",
         "type": "\"string\""
        },
        {
         "metadata": "{}",
         "name": "city",
         "type": "\"string\""
        },
        {
         "metadata": "{}",
         "name": "country",
         "type": "\"string\""
        },
        {
         "metadata": "{}",
         "name": "modifiedDate",
         "type": "\"timestamp\""
        },
        {
         "metadata": "{}",
         "name": "startTime",
         "type": "\"timestamp\""
        },
        {
         "metadata": "{}",
         "name": "endTime",
         "type": "\"timestamp\""
        },
        {
         "metadata": "{}",
         "name": "isActive",
         "type": "\"string\""
        }
       ],
       "type": "table"
      }
     },
     "output_type": "display_data"
    }
   ],
   "source": [
    "%sql\n",
    "SELECT * FROM  pyspark_cata.source.DimCustomers"
   ]
  },
  {
   "cell_type": "code",
   "execution_count": 0,
   "metadata": {
    "application/vnd.databricks.v1+cell": {
     "cellMetadata": {
      "byteLimit": 2048000,
      "implicitDf": true,
      "rowLimit": 10000
     },
     "inputWidgets": {},
     "nuid": "41970b26-5b52-424f-8aa7-7e56de4cec4e",
     "showTitle": false,
     "tableResultSettingsMap": {},
     "title": ""
    }
   },
   "outputs": [
    {
     "output_type": "display_data",
     "data": {
      "text/html": [
       "<style scoped>\n",
       "  .table-result-container {\n",
       "    max-height: 300px;\n",
       "    overflow: auto;\n",
       "  }\n",
       "  table, th, td {\n",
       "    border: 1px solid black;\n",
       "    border-collapse: collapse;\n",
       "  }\n",
       "  th, td {\n",
       "    padding: 5px;\n",
       "  }\n",
       "  th {\n",
       "    text-align: left;\n",
       "  }\n",
       "</style><div class='table-result-container'><table class='table-result'><thead style='background-color: white'><tr><th>num_affected_rows</th><th>num_inserted_rows</th></tr></thead><tbody><tr><td>2</td><td>2</td></tr></tbody></table></div>"
      ]
     },
     "metadata": {
      "application/vnd.databricks.v1+output": {
       "addedWidgets": {},
       "aggData": [],
       "aggError": "",
       "aggOverflow": false,
       "aggSchema": [],
       "aggSeriesLimitReached": false,
       "aggType": "",
       "arguments": {},
       "columnCustomDisplayInfos": {},
       "data": [
        [
         2,
         2
        ]
       ],
       "datasetInfos": [
        {
         "name": "_sqldf",
         "schema": {
          "fields": [
           {
            "metadata": {},
            "name": "num_affected_rows",
            "nullable": true,
            "type": "long"
           },
           {
            "metadata": {},
            "name": "num_inserted_rows",
            "nullable": true,
            "type": "long"
           }
          ],
          "type": "struct"
         },
         "tableIdentifier": null,
         "typeStr": "pyspark.sql.connect.dataframe.DataFrame"
        }
       ],
       "dbfsResultPath": null,
       "isJsonSchema": true,
       "metadata": {
        "createTempViewForImplicitDf": true,
        "dataframeName": "_sqldf",
        "executionCount": 257
       },
       "overflow": false,
       "plotOptions": {
        "customPlotOptions": {},
        "displayType": "table",
        "pivotAggregation": null,
        "pivotColumns": null,
        "xColumns": null,
        "yColumns": null
       },
       "removedWidgets": [],
       "schema": [
        {
         "metadata": "{}",
         "name": "num_affected_rows",
         "type": "\"long\""
        },
        {
         "metadata": "{}",
         "name": "num_inserted_rows",
         "type": "\"long\""
        }
       ],
       "type": "table"
      }
     },
     "output_type": "display_data"
    }
   ],
   "source": [
    "%sql\n",
    "INSERT INTO pyspark_cata.source.customers\n",
    "VALUES\n",
    "('1','john.smith@example.com','Seattle','USA',current_timestamp()),\n",
    "('6','jane.doe@example.com','London','UK',current_timestamp())"
   ]
  },
  {
   "cell_type": "code",
   "execution_count": 0,
   "metadata": {
    "application/vnd.databricks.v1+cell": {
     "cellMetadata": {
      "byteLimit": 2048000,
      "implicitDf": true,
      "rowLimit": 10000
     },
     "inputWidgets": {},
     "nuid": "72ad5b06-9b22-4dd8-b682-e77821825552",
     "showTitle": false,
     "tableResultSettingsMap": {},
     "title": ""
    }
   },
   "outputs": [
    {
     "output_type": "display_data",
     "data": {
      "text/html": [
       "<style scoped>\n",
       "  .table-result-container {\n",
       "    max-height: 300px;\n",
       "    overflow: auto;\n",
       "  }\n",
       "  table, th, td {\n",
       "    border: 1px solid black;\n",
       "    border-collapse: collapse;\n",
       "  }\n",
       "  th, td {\n",
       "    padding: 5px;\n",
       "  }\n",
       "  th {\n",
       "    text-align: left;\n",
       "  }\n",
       "</style><div class='table-result-container'><table class='table-result'><thead style='background-color: white'><tr><th>id</th><th>email</th><th>city</th><th>country</th><th>modifiedDate</th></tr></thead><tbody><tr><td>1</td><td>john.smith@example.com</td><td>New York</td><td>USA</td><td>2025-08-24T14:13:34.403Z</td></tr><tr><td>2</td><td>jane.doe@example.com</td><td>London</td><td>UK</td><td>2025-08-24T14:13:34.403Z</td></tr><tr><td>3</td><td>bob.smith@example.com</td><td>Paris</td><td>France</td><td>2025-08-24T14:13:34.403Z</td></tr><tr><td>4</td><td>mary.jones@example.com</td><td>Tokyo</td><td>Japan</td><td>2025-08-24T14:13:34.403Z</td></tr><tr><td>5</td><td>peter.smith@example.com</td><td>Sydney</td><td>Australia</td><td>2025-08-24T14:13:34.403Z</td></tr><tr><td>1</td><td>john.smith@example.com</td><td>Seattle</td><td>USA</td><td>2025-08-24T16:11:02.145Z</td></tr><tr><td>6</td><td>jane.doe@example.com</td><td>London</td><td>UK</td><td>2025-08-24T16:11:02.145Z</td></tr></tbody></table></div>"
      ]
     },
     "metadata": {
      "application/vnd.databricks.v1+output": {
       "addedWidgets": {},
       "aggData": [],
       "aggError": "",
       "aggOverflow": false,
       "aggSchema": [],
       "aggSeriesLimitReached": false,
       "aggType": "",
       "arguments": {},
       "columnCustomDisplayInfos": {},
       "data": [
        [
         "1",
         "john.smith@example.com",
         "New York",
         "USA",
         "2025-08-24T14:13:34.403Z"
        ],
        [
         "2",
         "jane.doe@example.com",
         "London",
         "UK",
         "2025-08-24T14:13:34.403Z"
        ],
        [
         "3",
         "bob.smith@example.com",
         "Paris",
         "France",
         "2025-08-24T14:13:34.403Z"
        ],
        [
         "4",
         "mary.jones@example.com",
         "Tokyo",
         "Japan",
         "2025-08-24T14:13:34.403Z"
        ],
        [
         "5",
         "peter.smith@example.com",
         "Sydney",
         "Australia",
         "2025-08-24T14:13:34.403Z"
        ],
        [
         "1",
         "john.smith@example.com",
         "Seattle",
         "USA",
         "2025-08-24T16:11:02.145Z"
        ],
        [
         "6",
         "jane.doe@example.com",
         "London",
         "UK",
         "2025-08-24T16:11:02.145Z"
        ]
       ],
       "datasetInfos": [
        {
         "name": "_sqldf",
         "schema": {
          "fields": [
           {
            "metadata": {},
            "name": "id",
            "nullable": true,
            "type": "string"
           },
           {
            "metadata": {},
            "name": "email",
            "nullable": true,
            "type": "string"
           },
           {
            "metadata": {},
            "name": "city",
            "nullable": true,
            "type": "string"
           },
           {
            "metadata": {},
            "name": "country",
            "nullable": true,
            "type": "string"
           },
           {
            "metadata": {},
            "name": "modifiedDate",
            "nullable": true,
            "type": "timestamp"
           }
          ],
          "type": "struct"
         },
         "tableIdentifier": null,
         "typeStr": "pyspark.sql.connect.dataframe.DataFrame"
        }
       ],
       "dbfsResultPath": null,
       "isJsonSchema": true,
       "metadata": {
        "createTempViewForImplicitDf": true,
        "dataframeName": "_sqldf",
        "executionCount": 259
       },
       "overflow": false,
       "plotOptions": {
        "customPlotOptions": {},
        "displayType": "table",
        "pivotAggregation": null,
        "pivotColumns": null,
        "xColumns": null,
        "yColumns": null
       },
       "removedWidgets": [],
       "schema": [
        {
         "metadata": "{}",
         "name": "id",
         "type": "\"string\""
        },
        {
         "metadata": "{}",
         "name": "email",
         "type": "\"string\""
        },
        {
         "metadata": "{}",
         "name": "city",
         "type": "\"string\""
        },
        {
         "metadata": "{}",
         "name": "country",
         "type": "\"string\""
        },
        {
         "metadata": "{}",
         "name": "modifiedDate",
         "type": "\"timestamp\""
        }
       ],
       "type": "table"
      }
     },
     "output_type": "display_data"
    }
   ],
   "source": [
    "%sql\n",
    "SELECT * FROM pyspark_cata.source.customers"
   ]
  },
  {
   "cell_type": "code",
   "execution_count": 0,
   "metadata": {
    "application/vnd.databricks.v1+cell": {
     "cellMetadata": {},
     "inputWidgets": {},
     "nuid": "e711712c-2448-457f-84de-1012e0c32b53",
     "showTitle": false,
     "tableResultSettingsMap": {},
     "title": ""
    }
   },
   "outputs": [],
   "source": []
  }
 ],
 "metadata": {
  "application/vnd.databricks.v1+notebook": {
   "computePreferences": null,
   "dashboards": [],
   "environmentMetadata": {
    "base_environment": "",
    "environment_version": "3"
   },
   "inputWidgetPreferences": null,
   "language": "python",
   "notebookMetadata": {
    "mostRecentlyExecutedCommandWithImplicitDF": {
     "commandId": 6029552671862185,
     "dataframes": [
      "_sqldf"
     ]
    },
    "pythonIndentUnit": 4
   },
   "notebookName": "scenario_5",
   "widgets": {}
  },
  "language_info": {
   "name": "python"
  }
 },
 "nbformat": 4,
 "nbformat_minor": 0
}