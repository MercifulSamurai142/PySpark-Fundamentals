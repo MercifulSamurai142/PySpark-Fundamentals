{
 "cells": [
  {
   "cell_type": "markdown",
   "metadata": {
    "application/vnd.databricks.v1+cell": {
     "cellMetadata": {},
     "inputWidgets": {},
     "nuid": "44624107-8752-499e-9f06-51063a723992",
     "showTitle": false,
     "tableResultSettingsMap": {},
     "title": ""
    }
   },
   "source": [
    "#Config for Microsoft Azure for this notebook in Databricks"
   ]
  },
  {
   "cell_type": "markdown",
   "metadata": {
    "application/vnd.databricks.v1+cell": {
     "cellMetadata": {},
     "inputWidgets": {},
     "nuid": "2772f668-649a-4983-a8fa-bee59c56f0c2",
     "showTitle": false,
     "tableResultSettingsMap": {},
     "title": ""
    }
   },
   "source": [
    "###Step 1 - Create Reource Group\n",
    "Resource group -> New Resource Group -> name - RG_databricks_masterclass\n",
    "->Create"
   ]
  },
  {
   "cell_type": "markdown",
   "metadata": {
    "application/vnd.databricks.v1+cell": {
     "cellMetadata": {},
     "inputWidgets": {},
     "nuid": "4bd7097e-8576-4ba9-9fb2-648cf7423781",
     "showTitle": false,
     "tableResultSettingsMap": {},
     "title": ""
    }
   },
   "source": [
    "###Step 2 - Create Storage\n",
    "- Resource Groups\n",
    "- Open your group\n",
    "- Create\n",
    "- Search 'Storage' - Select 'Storage Account' by Microsoft\n",
    "- Pick correct Resoure Group\n",
    "- Create unique storage account name - datalakemercifulsamurai\n",
    "- Select redundancy - LRS (Locally Redundant Storage - Data is replicated within same data cluster - cheapest option)"
   ]
  },
  {
   "cell_type": "markdown",
   "metadata": {
    "application/vnd.databricks.v1+cell": {
     "cellMetadata": {},
     "inputWidgets": {},
     "nuid": "6966cc30-40dc-42f2-a851-942958afdf89",
     "showTitle": false,
     "tableResultSettingsMap": {},
     "title": ""
    }
   },
   "source": [
    "###Step 3 - Create containers\n",
    "Create 2 containers - \n",
    "- source - Upload csv file to source container\n",
    "- destination"
   ]
  },
  {
   "cell_type": "markdown",
   "metadata": {
    "application/vnd.databricks.v1+cell": {
     "cellMetadata": {},
     "inputWidgets": {},
     "nuid": "bd255104-d234-4f50-8a8d-f93829ac05c4",
     "showTitle": false,
     "tableResultSettingsMap": {},
     "title": ""
    }
   },
   "source": [
    "###Step 4 - Create Dtabricks Workspace\n",
    "- Open Resource Group\n",
    "- Create\n",
    "- Databricks - Search and add the one from microsoft\n",
    "- Give name and create using the following\n",
    "- Open resource after creation and open workspace"
   ]
  },
  {
   "cell_type": "markdown",
   "metadata": {
    "application/vnd.databricks.v1+cell": {
     "cellMetadata": {},
     "inputWidgets": {},
     "nuid": "17139228-2299-4f5b-b79d-ea601be89289",
     "showTitle": false,
     "tableResultSettingsMap": {},
     "title": ""
    }
   },
   "source": [
    "###Step 5 - Create compute for Databricks\n",
    "- Open Workspace\n",
    "- Compute -> Create compute\n",
    "- Single mode - Check\n",
    "- Photon Acceleration - Uncheck"
   ]
  },
  {
   "cell_type": "markdown",
   "metadata": {
    "application/vnd.databricks.v1+cell": {
     "cellMetadata": {},
     "inputWidgets": {},
     "nuid": "6828bedd-6d1b-4532-8daa-75ac024564e3",
     "showTitle": false,
     "tableResultSettingsMap": {},
     "title": ""
    }
   },
   "source": [
    "###Step 6 - Create notebook\n",
    "- Create a workspace\n",
    "- Create notebook\n",
    "- Connect cluster to notebook"
   ]
  },
  {
   "cell_type": "markdown",
   "metadata": {
    "application/vnd.databricks.v1+cell": {
     "cellMetadata": {},
     "inputWidgets": {},
     "nuid": "a5af3aaf-0dd9-45de-bf18-9acd822daae4",
     "showTitle": false,
     "tableResultSettingsMap": {},
     "title": ""
    }
   },
   "source": [
    "###Step 7 - Service Principle App\n",
    "- Open Azure Portal\n",
    "- Microsoft Entra ID\n",
    "- Manage\n",
    "- App Registrations\n",
    "- Add\n",
    "- Name your app\n",
    "- Copy and keep - Application ID, Tenant ID\n",
    "- In this App - Open Mange -> Certifications & Secrets\n",
    "- Create new Secret Key and copy immediately"
   ]
  },
  {
   "cell_type": "markdown",
   "metadata": {
    "application/vnd.databricks.v1+cell": {
     "cellMetadata": {},
     "inputWidgets": {},
     "nuid": "d67a4ec0-62f7-4bcf-88bd-237f7978cdf3",
     "showTitle": false,
     "tableResultSettingsMap": {},
     "title": ""
    }
   },
   "source": [
    "###Step 8 - Assign access to the datalake\n",
    "- Open Resource group\n",
    "- Open data-storage-account\n",
    "- Containers\n",
    "- IAM\n",
    "- Add new role\n",
    "- Search 'Storage blob data contributor - select it and click next\n",
    "- +Select members\n",
    "- Search principle app with name which was just created"
   ]
  },
  {
   "cell_type": "markdown",
   "metadata": {
    "application/vnd.databricks.v1+cell": {
     "cellMetadata": {},
     "inputWidgets": {},
     "nuid": "ee99a862-c57b-437a-9d16-e5a4b680fa77",
     "showTitle": false,
     "tableResultSettingsMap": {},
     "title": ""
    }
   },
   "source": [
    "###Step 8 - Create Key Vault for secrets\n",
    "- Open Azure\n",
    "- Open 'Keyvault' -> Create\n",
    "- Select resource-group\n",
    "- Name keyvault\n",
    "- Access configuration(Next) - Select Vault Access policy\n",
    "- Create "
   ]
  },
  {
   "cell_type": "markdown",
   "metadata": {
    "application/vnd.databricks.v1+cell": {
     "cellMetadata": {},
     "inputWidgets": {},
     "nuid": "33f082c0-19ff-4d04-90c1-8576f4e1e76d",
     "showTitle": false,
     "tableResultSettingsMap": {},
     "title": ""
    }
   },
   "source": [
    "###Step 9 - Role Assignment\n",
    "- Open Key vault -> IAM\n",
    "- +Add -> Add role assignment\n",
    "- Search 'Key Vault Admin' -> Next\n",
    "- Pick user (email)\n",
    "- Select -> Review+Assign"
   ]
  },
  {
   "cell_type": "markdown",
   "metadata": {
    "application/vnd.databricks.v1+cell": {
     "cellMetadata": {},
     "inputWidgets": {},
     "nuid": "61b001dd-3037-4f1a-8c0e-a273749aab6e",
     "showTitle": false,
     "tableResultSettingsMap": {},
     "title": ""
    }
   },
   "source": [
    "###Step 10 - Add secrets\n",
    "- Open keyvault\n",
    "- Objects -> Secrets -> Generate/Import\n",
    "- Put name and put key in value (Create 3 secrets for app-id, tenant-id, app-secret-key of the service principle app)"
   ]
  },
  {
   "cell_type": "markdown",
   "metadata": {
    "application/vnd.databricks.v1+cell": {
     "cellMetadata": {},
     "inputWidgets": {},
     "nuid": "03205b09-583b-4a6f-8cd2-e10e17d6f76f",
     "showTitle": false,
     "tableResultSettingsMap": {},
     "title": ""
    }
   },
   "source": [
    "###Step 11 - Create databricks scope\n",
    "- Open databricks workspace in Azure\n",
    "- Copy the url\n",
    "- Paste it in a new tab like ->[<url]#secrets/createScope\n",
    "- Name - use a name (mercifulscope)\n",
    "- DNS name - vault URL from Azure Key Vault Properties\n",
    "- Resource ID - Resource ID from same Settings/Properties\n",
    "- Create\n",
    "- Now, we can use dbutils.secret with this scope to get and use the keys stored securely in the keyvault"
   ]
  },
  {
   "cell_type": "markdown",
   "metadata": {
    "application/vnd.databricks.v1+cell": {
     "cellMetadata": {},
     "inputWidgets": {},
     "nuid": "d72e35e9-fd92-4133-a143-e6148776eb5d",
     "showTitle": false,
     "tableResultSettingsMap": {},
     "title": ""
    }
   },
   "source": [
    "###Step 12 - Establish Connection to Azure in notebook\n",
    "- Open link https://learn.microsoft.com/en-us/azure/databricks/connect/storage/azure-storage\n",
    "- Copy spark.conf.set template\n",
    "- Open notebook and paste\n",
    "- Put storage name\n",
    "- Use dbutils.secrets.list(scope='scope-name') to list avaiable keys\n",
    "- Use dbutils.secret.get(scope='scope-name',key='key-name') to get the app-id and app-secret stored in keyvault and use here"
   ]
  },
  {
   "cell_type": "markdown",
   "metadata": {
    "application/vnd.databricks.v1+cell": {
     "cellMetadata": {},
     "inputWidgets": {},
     "nuid": "6ab0ab36-0ce4-47de-a94b-c176fd59398f",
     "showTitle": false,
     "tableResultSettingsMap": {},
     "title": ""
    }
   },
   "source": [
    "###Step 13 - Setup for External Tables\n",
    "- Open Azure Portal\n",
    "- Open Resource Group\n",
    "- Create -> Access Connector for Azure Databricks\n",
    "- Open Datalake\n",
    "- Goto IAM\n",
    "- Add - Storage Blob Data Contributor\n",
    "- Assign Access to Managed Identity\n",
    "- Select Members -> Managed Identity(Access Connector for Azure Databricks)\n",
    "- Open Databricks Workspace\n",
    "- Goto Catalog -> External Data (top-right of screen)\n",
    "- Create External Location -> URL = abfss://[container]@[datalake-name].dfs.core.windows.net/[folder-path]\n",
    "This location should be where the data for External Table is stored"
   ]
  },
  {
   "cell_type": "code",
   "execution_count": 0,
   "metadata": {
    "application/vnd.databricks.v1+cell": {
     "cellMetadata": {
      "byteLimit": 2048000,
      "rowLimit": 10000
     },
     "inputWidgets": {},
     "nuid": "7073aa82-211e-47d3-91cb-81cc8dca860d",
     "showTitle": false,
     "tableResultSettingsMap": {},
     "title": ""
    }
   },
   "outputs": [],
   "source": [
    "from pyspark.sql.functions import *\n",
    "from pyspark.sql.types import *"
   ]
  },
  {
   "cell_type": "code",
   "execution_count": 0,
   "metadata": {
    "application/vnd.databricks.v1+cell": {
     "cellMetadata": {
      "byteLimit": 2048000,
      "rowLimit": 10000
     },
     "inputWidgets": {},
     "nuid": "0c1a9c20-2940-4010-b22f-e9e0000c4286",
     "showTitle": false,
     "tableResultSettingsMap": {},
     "title": ""
    }
   },
   "outputs": [],
   "source": [
    "dbutils.secrets.list(scope='mercifulscope')"
   ]
  },
  {
   "cell_type": "code",
   "execution_count": 0,
   "metadata": {
    "application/vnd.databricks.v1+cell": {
     "cellMetadata": {
      "byteLimit": 2048000,
      "rowLimit": 10000
     },
     "inputWidgets": {},
     "nuid": "d467a3a1-6135-4caf-9409-06dd400727f7",
     "showTitle": false,
     "tableResultSettingsMap": {},
     "title": ""
    }
   },
   "outputs": [],
   "source": [
    "app_id = dbutils.secrets.get(scope='mercifulscope',key='app-id')\n",
    "app_secret_key = dbutils.secrets.get(scope='mercifulscope',key='app-secret-key')"
   ]
  },
  {
   "cell_type": "code",
   "execution_count": 0,
   "metadata": {
    "application/vnd.databricks.v1+cell": {
     "cellMetadata": {
      "byteLimit": 2048000,
      "rowLimit": 10000
     },
     "inputWidgets": {},
     "nuid": "5b1f61b8-120e-4122-9c19-15a7f1a52298",
     "showTitle": false,
     "tableResultSettingsMap": {},
     "title": ""
    }
   },
   "outputs": [],
   "source": [
    "spark.conf.set(\"fs.azure.account.auth.type.datalakemercifulsamurai.dfs.core.windows.net\", \"OAuth\")\n",
    "spark.conf.set(\"fs.azure.account.oauth.provider.type.datalakemercifulsamurai.dfs.core.windows.net\", \"org.apache.hadoop.fs.azurebfs.oauth2.ClientCredsTokenProvider\")\n",
    "spark.conf.set(\"fs.azure.account.oauth2.client.id.datalakemercifulsamurai.dfs.core.windows.net\", app_id)\n",
    "spark.conf.set(\"fs.azure.account.oauth2.client.secret.datalakemercifulsamurai.dfs.core.windows.net\", app_secret_key)\n",
    "spark.conf.set(\"fs.azure.account.oauth2.client.endpoint.datalakemercifulsamurai.dfs.core.windows.net\", \"https://login.microsoftonline.com/3f20cb52-8282-4c01-9c13-59e5bea78878/oauth2/token\")"
   ]
  },
  {
   "cell_type": "code",
   "execution_count": 0,
   "metadata": {
    "application/vnd.databricks.v1+cell": {
     "cellMetadata": {},
     "inputWidgets": {},
     "nuid": "8c32d04b-b9aa-43c0-ab45-3e4439a0cc2d",
     "showTitle": false,
     "tableResultSettingsMap": {},
     "title": ""
    }
   },
   "outputs": [],
   "source": [
    "dbutils.fs.ls(\"abfss://sparkdata@datalakemercifulsamurai.dfs.core.windows.net/\")"
   ]
  }
 ],
 "metadata": {
  "application/vnd.databricks.v1+notebook": {
   "computePreferences": null,
   "dashboards": [],
   "environmentMetadata": {
    "base_environment": "",
    "environment_version": "2"
   },
   "inputWidgetPreferences": null,
   "language": "python",
   "notebookMetadata": {
    "pythonIndentUnit": 4
   },
   "notebookName": "AzureSetup",
   "widgets": {}
  },
  "language_info": {
   "name": "python"
  }
 },
 "nbformat": 4,
 "nbformat_minor": 0
}